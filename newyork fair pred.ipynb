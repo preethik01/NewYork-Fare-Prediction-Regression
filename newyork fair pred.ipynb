{
 "cells": [
  {
   "cell_type": "code",
   "execution_count": 110,
   "metadata": {},
   "outputs": [],
   "source": [
    "#imports\n",
    "import numpy as np # linear algebra\n",
    "import pandas as pd # data processing, CSV file I/O (e.g. pd.read_csv)\n",
    "import sklearn\n",
    "import seaborn as sns\n",
    "import matplotlib.pyplot as plt"
   ]
  },
  {
   "cell_type": "code",
   "execution_count": 113,
   "metadata": {},
   "outputs": [],
   "source": [
    "#importing datasets\n",
    "train = pd.read_csv(\"train.csv\", nrows = 5000000)\n",
    "test = pd.read_csv(\"test.csv\")"
   ]
  },
  {
   "cell_type": "code",
   "execution_count": 3,
   "metadata": {},
   "outputs": [
    {
     "data": {
      "text/plain": [
       "(5000000, 8)"
      ]
     },
     "execution_count": 3,
     "metadata": {},
     "output_type": "execute_result"
    }
   ],
   "source": [
    "train.shape"
   ]
  },
  {
   "cell_type": "code",
   "execution_count": null,
   "metadata": {},
   "outputs": [],
   "source": [
    "## Data Cleaning \n",
    "#1)Checked Null values , removed the nulls\n",
    "#2)Removed fair< 0\n",
    "#3) Removed no. of passengers >6\n",
    "#4) longitude, latitides < > 180\n"
   ]
  },
  {
   "cell_type": "code",
   "execution_count": 124,
   "metadata": {},
   "outputs": [
    {
     "data": {
      "text/plain": [
       "(9914, 7)"
      ]
     },
     "execution_count": 124,
     "metadata": {},
     "output_type": "execute_result"
    }
   ],
   "source": [
    "test.shape"
   ]
  },
  {
   "cell_type": "code",
   "execution_count": 118,
   "metadata": {},
   "outputs": [
    {
     "data": {
      "text/html": [
       "<div>\n",
       "<style scoped>\n",
       "    .dataframe tbody tr th:only-of-type {\n",
       "        vertical-align: middle;\n",
       "    }\n",
       "\n",
       "    .dataframe tbody tr th {\n",
       "        vertical-align: top;\n",
       "    }\n",
       "\n",
       "    .dataframe thead th {\n",
       "        text-align: right;\n",
       "    }\n",
       "</style>\n",
       "<table border=\"1\" class=\"dataframe\">\n",
       "  <thead>\n",
       "    <tr style=\"text-align: right;\">\n",
       "      <th></th>\n",
       "      <th>key</th>\n",
       "      <th>pickup_datetime</th>\n",
       "      <th>pickup_longitude</th>\n",
       "      <th>pickup_latitude</th>\n",
       "      <th>dropoff_longitude</th>\n",
       "      <th>dropoff_latitude</th>\n",
       "      <th>passenger_count</th>\n",
       "    </tr>\n",
       "  </thead>\n",
       "  <tbody>\n",
       "    <tr>\n",
       "      <th>0</th>\n",
       "      <td>2015-01-27 13:08:24.0000002</td>\n",
       "      <td>2015-01-27 13:08:24 UTC</td>\n",
       "      <td>-73.973320</td>\n",
       "      <td>40.763805</td>\n",
       "      <td>-73.981430</td>\n",
       "      <td>40.743835</td>\n",
       "      <td>1</td>\n",
       "    </tr>\n",
       "    <tr>\n",
       "      <th>1</th>\n",
       "      <td>2015-01-27 13:08:24.0000003</td>\n",
       "      <td>2015-01-27 13:08:24 UTC</td>\n",
       "      <td>-73.986862</td>\n",
       "      <td>40.719383</td>\n",
       "      <td>-73.998886</td>\n",
       "      <td>40.739201</td>\n",
       "      <td>1</td>\n",
       "    </tr>\n",
       "    <tr>\n",
       "      <th>2</th>\n",
       "      <td>2011-10-08 11:53:44.0000002</td>\n",
       "      <td>2011-10-08 11:53:44 UTC</td>\n",
       "      <td>-73.982524</td>\n",
       "      <td>40.751260</td>\n",
       "      <td>-73.979654</td>\n",
       "      <td>40.746139</td>\n",
       "      <td>1</td>\n",
       "    </tr>\n",
       "    <tr>\n",
       "      <th>3</th>\n",
       "      <td>2012-12-01 21:12:12.0000002</td>\n",
       "      <td>2012-12-01 21:12:12 UTC</td>\n",
       "      <td>-73.981160</td>\n",
       "      <td>40.767807</td>\n",
       "      <td>-73.990448</td>\n",
       "      <td>40.751635</td>\n",
       "      <td>1</td>\n",
       "    </tr>\n",
       "    <tr>\n",
       "      <th>4</th>\n",
       "      <td>2012-12-01 21:12:12.0000003</td>\n",
       "      <td>2012-12-01 21:12:12 UTC</td>\n",
       "      <td>-73.966046</td>\n",
       "      <td>40.789775</td>\n",
       "      <td>-73.988565</td>\n",
       "      <td>40.744427</td>\n",
       "      <td>1</td>\n",
       "    </tr>\n",
       "  </tbody>\n",
       "</table>\n",
       "</div>"
      ],
      "text/plain": [
       "                           key          pickup_datetime  pickup_longitude  \\\n",
       "0  2015-01-27 13:08:24.0000002  2015-01-27 13:08:24 UTC        -73.973320   \n",
       "1  2015-01-27 13:08:24.0000003  2015-01-27 13:08:24 UTC        -73.986862   \n",
       "2  2011-10-08 11:53:44.0000002  2011-10-08 11:53:44 UTC        -73.982524   \n",
       "3  2012-12-01 21:12:12.0000002  2012-12-01 21:12:12 UTC        -73.981160   \n",
       "4  2012-12-01 21:12:12.0000003  2012-12-01 21:12:12 UTC        -73.966046   \n",
       "\n",
       "   pickup_latitude  dropoff_longitude  dropoff_latitude  passenger_count  \n",
       "0        40.763805         -73.981430         40.743835                1  \n",
       "1        40.719383         -73.998886         40.739201                1  \n",
       "2        40.751260         -73.979654         40.746139                1  \n",
       "3        40.767807         -73.990448         40.751635                1  \n",
       "4        40.789775         -73.988565         40.744427                1  "
      ]
     },
     "execution_count": 118,
     "metadata": {},
     "output_type": "execute_result"
    }
   ],
   "source": [
    "test.head()"
   ]
  },
  {
   "cell_type": "code",
   "execution_count": 119,
   "metadata": {},
   "outputs": [
    {
     "data": {
      "text/html": [
       "<div>\n",
       "<style scoped>\n",
       "    .dataframe tbody tr th:only-of-type {\n",
       "        vertical-align: middle;\n",
       "    }\n",
       "\n",
       "    .dataframe tbody tr th {\n",
       "        vertical-align: top;\n",
       "    }\n",
       "\n",
       "    .dataframe thead th {\n",
       "        text-align: right;\n",
       "    }\n",
       "</style>\n",
       "<table border=\"1\" class=\"dataframe\">\n",
       "  <thead>\n",
       "    <tr style=\"text-align: right;\">\n",
       "      <th></th>\n",
       "      <th>fare_amount</th>\n",
       "      <th>pickup_longitude</th>\n",
       "      <th>pickup_latitude</th>\n",
       "      <th>dropoff_longitude</th>\n",
       "      <th>dropoff_latitude</th>\n",
       "      <th>passenger_count</th>\n",
       "    </tr>\n",
       "  </thead>\n",
       "  <tbody>\n",
       "    <tr>\n",
       "      <th>count</th>\n",
       "      <td>5.000000e+06</td>\n",
       "      <td>5.000000e+06</td>\n",
       "      <td>5.000000e+06</td>\n",
       "      <td>4.999964e+06</td>\n",
       "      <td>4.999964e+06</td>\n",
       "      <td>5.000000e+06</td>\n",
       "    </tr>\n",
       "    <tr>\n",
       "      <th>mean</th>\n",
       "      <td>1.134080e+01</td>\n",
       "      <td>-7.250678e+01</td>\n",
       "      <td>3.991974e+01</td>\n",
       "      <td>-7.250652e+01</td>\n",
       "      <td>3.991725e+01</td>\n",
       "      <td>1.684695e+00</td>\n",
       "    </tr>\n",
       "    <tr>\n",
       "      <th>std</th>\n",
       "      <td>9.820175e+00</td>\n",
       "      <td>1.280970e+01</td>\n",
       "      <td>8.963509e+00</td>\n",
       "      <td>1.284777e+01</td>\n",
       "      <td>9.486767e+00</td>\n",
       "      <td>1.331854e+00</td>\n",
       "    </tr>\n",
       "    <tr>\n",
       "      <th>min</th>\n",
       "      <td>-1.000000e+02</td>\n",
       "      <td>-3.426609e+03</td>\n",
       "      <td>-3.488080e+03</td>\n",
       "      <td>-3.412653e+03</td>\n",
       "      <td>-3.488080e+03</td>\n",
       "      <td>0.000000e+00</td>\n",
       "    </tr>\n",
       "    <tr>\n",
       "      <th>25%</th>\n",
       "      <td>6.000000e+00</td>\n",
       "      <td>-7.399206e+01</td>\n",
       "      <td>4.073491e+01</td>\n",
       "      <td>-7.399139e+01</td>\n",
       "      <td>4.073404e+01</td>\n",
       "      <td>1.000000e+00</td>\n",
       "    </tr>\n",
       "    <tr>\n",
       "      <th>50%</th>\n",
       "      <td>8.500000e+00</td>\n",
       "      <td>-7.398181e+01</td>\n",
       "      <td>4.075263e+01</td>\n",
       "      <td>-7.398016e+01</td>\n",
       "      <td>4.075315e+01</td>\n",
       "      <td>1.000000e+00</td>\n",
       "    </tr>\n",
       "    <tr>\n",
       "      <th>75%</th>\n",
       "      <td>1.250000e+01</td>\n",
       "      <td>-7.396711e+01</td>\n",
       "      <td>4.076711e+01</td>\n",
       "      <td>-7.396367e+01</td>\n",
       "      <td>4.076811e+01</td>\n",
       "      <td>2.000000e+00</td>\n",
       "    </tr>\n",
       "    <tr>\n",
       "      <th>max</th>\n",
       "      <td>1.273310e+03</td>\n",
       "      <td>3.439426e+03</td>\n",
       "      <td>3.310364e+03</td>\n",
       "      <td>3.457622e+03</td>\n",
       "      <td>3.345917e+03</td>\n",
       "      <td>2.080000e+02</td>\n",
       "    </tr>\n",
       "  </tbody>\n",
       "</table>\n",
       "</div>"
      ],
      "text/plain": [
       "        fare_amount  pickup_longitude  pickup_latitude  dropoff_longitude  \\\n",
       "count  5.000000e+06      5.000000e+06     5.000000e+06       4.999964e+06   \n",
       "mean   1.134080e+01     -7.250678e+01     3.991974e+01      -7.250652e+01   \n",
       "std    9.820175e+00      1.280970e+01     8.963509e+00       1.284777e+01   \n",
       "min   -1.000000e+02     -3.426609e+03    -3.488080e+03      -3.412653e+03   \n",
       "25%    6.000000e+00     -7.399206e+01     4.073491e+01      -7.399139e+01   \n",
       "50%    8.500000e+00     -7.398181e+01     4.075263e+01      -7.398016e+01   \n",
       "75%    1.250000e+01     -7.396711e+01     4.076711e+01      -7.396367e+01   \n",
       "max    1.273310e+03      3.439426e+03     3.310364e+03       3.457622e+03   \n",
       "\n",
       "       dropoff_latitude  passenger_count  \n",
       "count      4.999964e+06     5.000000e+06  \n",
       "mean       3.991725e+01     1.684695e+00  \n",
       "std        9.486767e+00     1.331854e+00  \n",
       "min       -3.488080e+03     0.000000e+00  \n",
       "25%        4.073404e+01     1.000000e+00  \n",
       "50%        4.075315e+01     1.000000e+00  \n",
       "75%        4.076811e+01     2.000000e+00  \n",
       "max        3.345917e+03     2.080000e+02  "
      ]
     },
     "execution_count": 119,
     "metadata": {},
     "output_type": "execute_result"
    }
   ],
   "source": [
    "train.describe()"
   ]
  },
  {
   "cell_type": "code",
   "execution_count": 120,
   "metadata": {},
   "outputs": [
    {
     "data": {
      "text/plain": [
       "dropoff_longitude    36\n",
       "dropoff_latitude     36\n",
       "key                   0\n",
       "fare_amount           0\n",
       "pickup_datetime       0\n",
       "pickup_longitude      0\n",
       "pickup_latitude       0\n",
       "passenger_count       0\n",
       "dtype: int64"
      ]
     },
     "execution_count": 120,
     "metadata": {},
     "output_type": "execute_result"
    }
   ],
   "source": [
    "train.isnull().sum().sort_values(ascending=False)"
   ]
  },
  {
   "cell_type": "code",
   "execution_count": 8,
   "metadata": {},
   "outputs": [],
   "source": [
    "train = train.drop(train[train.isnull().any(1)].index, axis = 0)"
   ]
  },
  {
   "cell_type": "code",
   "execution_count": 9,
   "metadata": {},
   "outputs": [
    {
     "data": {
      "text/plain": [
       "(4999964, 8)"
      ]
     },
     "execution_count": 9,
     "metadata": {},
     "output_type": "execute_result"
    }
   ],
   "source": [
    "train.shape\n"
   ]
  },
  {
   "cell_type": "code",
   "execution_count": 10,
   "metadata": {},
   "outputs": [
    {
     "data": {
      "text/plain": [
       "count    4.999964e+06\n",
       "mean     1.134074e+01\n",
       "std      9.820066e+00\n",
       "min     -1.000000e+02\n",
       "25%      6.000000e+00\n",
       "50%      8.500000e+00\n",
       "75%      1.250000e+01\n",
       "max      1.273310e+03\n",
       "Name: fare_amount, dtype: float64"
      ]
     },
     "execution_count": 10,
     "metadata": {},
     "output_type": "execute_result"
    }
   ],
   "source": [
    "train['fare_amount'].describe()"
   ]
  },
  {
   "cell_type": "code",
   "execution_count": 11,
   "metadata": {},
   "outputs": [
    {
     "data": {
      "text/plain": [
       "Counter({False: 4999753, True: 211})"
      ]
     },
     "execution_count": 11,
     "metadata": {},
     "output_type": "execute_result"
    }
   ],
   "source": [
    "from collections import Counter\n",
    "Counter(train['fare_amount']<0)"
   ]
  },
  {
   "cell_type": "code",
   "execution_count": 12,
   "metadata": {},
   "outputs": [
    {
     "data": {
      "text/plain": [
       "(4999753, 8)"
      ]
     },
     "execution_count": 12,
     "metadata": {},
     "output_type": "execute_result"
    }
   ],
   "source": [
    "train = train.drop(train[train['fare_amount']<0].index, axis=0)\n",
    "train.shape"
   ]
  },
  {
   "cell_type": "code",
   "execution_count": 13,
   "metadata": {},
   "outputs": [
    {
     "data": {
      "text/plain": [
       "count    4.999753e+06\n",
       "mean     1.134159e+01\n",
       "std      9.819001e+00\n",
       "min      0.000000e+00\n",
       "25%      6.000000e+00\n",
       "50%      8.500000e+00\n",
       "75%      1.250000e+01\n",
       "max      1.273310e+03\n",
       "Name: fare_amount, dtype: float64"
      ]
     },
     "execution_count": 13,
     "metadata": {},
     "output_type": "execute_result"
    }
   ],
   "source": [
    "#no more negative values in the fare field\n",
    "train['fare_amount'].describe()"
   ]
  },
  {
   "cell_type": "code",
   "execution_count": 14,
   "metadata": {},
   "outputs": [
    {
     "data": {
      "text/plain": [
       "1144706    1273.31\n",
       "4894706     952.00\n",
       "3723759     698.16\n",
       "3206977     542.83\n",
       "3316931     500.00\n",
       "Name: fare_amount, dtype: float64"
      ]
     },
     "execution_count": 14,
     "metadata": {},
     "output_type": "execute_result"
    }
   ],
   "source": [
    "#highest fare is $500\n",
    "train['fare_amount'].sort_values(ascending=False).head()"
   ]
  },
  {
   "cell_type": "code",
   "execution_count": 15,
   "metadata": {},
   "outputs": [
    {
     "data": {
      "text/plain": [
       "count    4.999753e+06\n",
       "mean     1.684702e+00\n",
       "std      1.331848e+00\n",
       "min      0.000000e+00\n",
       "25%      1.000000e+00\n",
       "50%      1.000000e+00\n",
       "75%      2.000000e+00\n",
       "max      2.080000e+02\n",
       "Name: passenger_count, dtype: float64"
      ]
     },
     "execution_count": 15,
     "metadata": {},
     "output_type": "execute_result"
    }
   ],
   "source": [
    "train['passenger_count'].describe()"
   ]
  },
  {
   "cell_type": "code",
   "execution_count": 16,
   "metadata": {},
   "outputs": [
    {
     "data": {
      "text/html": [
       "<div>\n",
       "<style scoped>\n",
       "    .dataframe tbody tr th:only-of-type {\n",
       "        vertical-align: middle;\n",
       "    }\n",
       "\n",
       "    .dataframe tbody tr th {\n",
       "        vertical-align: top;\n",
       "    }\n",
       "\n",
       "    .dataframe thead th {\n",
       "        text-align: right;\n",
       "    }\n",
       "</style>\n",
       "<table border=\"1\" class=\"dataframe\">\n",
       "  <thead>\n",
       "    <tr style=\"text-align: right;\">\n",
       "      <th></th>\n",
       "      <th>key</th>\n",
       "      <th>fare_amount</th>\n",
       "      <th>pickup_datetime</th>\n",
       "      <th>pickup_longitude</th>\n",
       "      <th>pickup_latitude</th>\n",
       "      <th>dropoff_longitude</th>\n",
       "      <th>dropoff_latitude</th>\n",
       "      <th>passenger_count</th>\n",
       "    </tr>\n",
       "  </thead>\n",
       "  <tbody>\n",
       "    <tr>\n",
       "      <th>929022</th>\n",
       "      <td>2009-07-30 11:54:00.000000193</td>\n",
       "      <td>3.30</td>\n",
       "      <td>2009-07-30 11:54:00 UTC</td>\n",
       "      <td>0.000000</td>\n",
       "      <td>0.000000</td>\n",
       "      <td>0.000000</td>\n",
       "      <td>0.000000</td>\n",
       "      <td>208</td>\n",
       "    </tr>\n",
       "    <tr>\n",
       "      <th>1007609</th>\n",
       "      <td>2014-06-24 15:13:00.00000040</td>\n",
       "      <td>104.00</td>\n",
       "      <td>2014-06-24 15:13:00 UTC</td>\n",
       "      <td>-74.015780</td>\n",
       "      <td>40.715420</td>\n",
       "      <td>-74.170280</td>\n",
       "      <td>40.708340</td>\n",
       "      <td>9</td>\n",
       "    </tr>\n",
       "    <tr>\n",
       "      <th>2154045</th>\n",
       "      <td>2010-12-16 11:21:00.000000209</td>\n",
       "      <td>3.30</td>\n",
       "      <td>2010-12-16 11:21:00 UTC</td>\n",
       "      <td>0.000000</td>\n",
       "      <td>0.000000</td>\n",
       "      <td>0.000000</td>\n",
       "      <td>0.000000</td>\n",
       "      <td>208</td>\n",
       "    </tr>\n",
       "    <tr>\n",
       "      <th>2198549</th>\n",
       "      <td>2010-12-15 14:20:00.00000010</td>\n",
       "      <td>3.30</td>\n",
       "      <td>2010-12-15 14:20:00 UTC</td>\n",
       "      <td>0.000000</td>\n",
       "      <td>0.000000</td>\n",
       "      <td>0.000000</td>\n",
       "      <td>0.000000</td>\n",
       "      <td>208</td>\n",
       "    </tr>\n",
       "    <tr>\n",
       "      <th>2910347</th>\n",
       "      <td>2010-12-16 06:44:00.00000039</td>\n",
       "      <td>4.50</td>\n",
       "      <td>2010-12-16 06:44:00 UTC</td>\n",
       "      <td>0.000000</td>\n",
       "      <td>0.000000</td>\n",
       "      <td>0.000000</td>\n",
       "      <td>0.000000</td>\n",
       "      <td>208</td>\n",
       "    </tr>\n",
       "    <tr>\n",
       "      <th>3107489</th>\n",
       "      <td>2009-05-12 14:50:00.000000175</td>\n",
       "      <td>2.70</td>\n",
       "      <td>2009-05-12 14:50:00 UTC</td>\n",
       "      <td>-73.937818</td>\n",
       "      <td>40.758260</td>\n",
       "      <td>-73.937827</td>\n",
       "      <td>40.758250</td>\n",
       "      <td>208</td>\n",
       "    </tr>\n",
       "    <tr>\n",
       "      <th>3323791</th>\n",
       "      <td>2011-08-27 01:24:00.000000168</td>\n",
       "      <td>8.50</td>\n",
       "      <td>2011-08-27 01:24:00 UTC</td>\n",
       "      <td>-73.987858</td>\n",
       "      <td>40.760340</td>\n",
       "      <td>-74.000682</td>\n",
       "      <td>40.752413</td>\n",
       "      <td>129</td>\n",
       "    </tr>\n",
       "    <tr>\n",
       "      <th>4095440</th>\n",
       "      <td>2015-06-14 08:56:16.0000001</td>\n",
       "      <td>37.04</td>\n",
       "      <td>2015-06-14 08:56:16 UTC</td>\n",
       "      <td>-73.982094</td>\n",
       "      <td>40.756252</td>\n",
       "      <td>-73.872482</td>\n",
       "      <td>40.774506</td>\n",
       "      <td>9</td>\n",
       "    </tr>\n",
       "    <tr>\n",
       "      <th>4103745</th>\n",
       "      <td>2010-12-22 12:11:00.000000230</td>\n",
       "      <td>23.70</td>\n",
       "      <td>2010-12-22 12:11:00 UTC</td>\n",
       "      <td>0.000000</td>\n",
       "      <td>0.000000</td>\n",
       "      <td>0.000000</td>\n",
       "      <td>0.000000</td>\n",
       "      <td>208</td>\n",
       "    </tr>\n",
       "    <tr>\n",
       "      <th>4432483</th>\n",
       "      <td>2009-05-11 13:56:00.00000088</td>\n",
       "      <td>11.10</td>\n",
       "      <td>2009-05-11 13:56:00 UTC</td>\n",
       "      <td>-73.937733</td>\n",
       "      <td>40.758267</td>\n",
       "      <td>-73.937737</td>\n",
       "      <td>40.758273</td>\n",
       "      <td>208</td>\n",
       "    </tr>\n",
       "    <tr>\n",
       "      <th>4467314</th>\n",
       "      <td>2015-01-01 21:32:16.0000007</td>\n",
       "      <td>8.50</td>\n",
       "      <td>2015-01-01 21:32:16 UTC</td>\n",
       "      <td>-74.005867</td>\n",
       "      <td>40.740643</td>\n",
       "      <td>-73.988045</td>\n",
       "      <td>40.735100</td>\n",
       "      <td>7</td>\n",
       "    </tr>\n",
       "    <tr>\n",
       "      <th>4679603</th>\n",
       "      <td>2010-02-20 01:53:00.00000037</td>\n",
       "      <td>9.30</td>\n",
       "      <td>2010-02-20 01:53:00 UTC</td>\n",
       "      <td>0.554830</td>\n",
       "      <td>0.000000</td>\n",
       "      <td>-2069.478952</td>\n",
       "      <td>28.121107</td>\n",
       "      <td>51</td>\n",
       "    </tr>\n",
       "  </tbody>\n",
       "</table>\n",
       "</div>"
      ],
      "text/plain": [
       "                                   key  fare_amount          pickup_datetime  \\\n",
       "929022   2009-07-30 11:54:00.000000193         3.30  2009-07-30 11:54:00 UTC   \n",
       "1007609   2014-06-24 15:13:00.00000040       104.00  2014-06-24 15:13:00 UTC   \n",
       "2154045  2010-12-16 11:21:00.000000209         3.30  2010-12-16 11:21:00 UTC   \n",
       "2198549   2010-12-15 14:20:00.00000010         3.30  2010-12-15 14:20:00 UTC   \n",
       "2910347   2010-12-16 06:44:00.00000039         4.50  2010-12-16 06:44:00 UTC   \n",
       "3107489  2009-05-12 14:50:00.000000175         2.70  2009-05-12 14:50:00 UTC   \n",
       "3323791  2011-08-27 01:24:00.000000168         8.50  2011-08-27 01:24:00 UTC   \n",
       "4095440    2015-06-14 08:56:16.0000001        37.04  2015-06-14 08:56:16 UTC   \n",
       "4103745  2010-12-22 12:11:00.000000230        23.70  2010-12-22 12:11:00 UTC   \n",
       "4432483   2009-05-11 13:56:00.00000088        11.10  2009-05-11 13:56:00 UTC   \n",
       "4467314    2015-01-01 21:32:16.0000007         8.50  2015-01-01 21:32:16 UTC   \n",
       "4679603   2010-02-20 01:53:00.00000037         9.30  2010-02-20 01:53:00 UTC   \n",
       "\n",
       "         pickup_longitude  pickup_latitude  dropoff_longitude  \\\n",
       "929022           0.000000         0.000000           0.000000   \n",
       "1007609        -74.015780        40.715420         -74.170280   \n",
       "2154045          0.000000         0.000000           0.000000   \n",
       "2198549          0.000000         0.000000           0.000000   \n",
       "2910347          0.000000         0.000000           0.000000   \n",
       "3107489        -73.937818        40.758260         -73.937827   \n",
       "3323791        -73.987858        40.760340         -74.000682   \n",
       "4095440        -73.982094        40.756252         -73.872482   \n",
       "4103745          0.000000         0.000000           0.000000   \n",
       "4432483        -73.937733        40.758267         -73.937737   \n",
       "4467314        -74.005867        40.740643         -73.988045   \n",
       "4679603          0.554830         0.000000       -2069.478952   \n",
       "\n",
       "         dropoff_latitude  passenger_count  \n",
       "929022           0.000000              208  \n",
       "1007609         40.708340                9  \n",
       "2154045          0.000000              208  \n",
       "2198549          0.000000              208  \n",
       "2910347          0.000000              208  \n",
       "3107489         40.758250              208  \n",
       "3323791         40.752413              129  \n",
       "4095440         40.774506                9  \n",
       "4103745          0.000000              208  \n",
       "4432483         40.758273              208  \n",
       "4467314         40.735100                7  \n",
       "4679603         28.121107               51  "
      ]
     },
     "execution_count": 16,
     "metadata": {},
     "output_type": "execute_result"
    }
   ],
   "source": [
    "#max is 208 passengers. Assuming that a bus is a 'taxi' in NYC, I don't think a bus can carry 208 passengers! Let' see the distribution of this field\n",
    "#LOL! One field. this is DEFINITELY an outlier. Lets drop it \n",
    "train[train['passenger_count']>6]"
   ]
  },
  {
   "cell_type": "code",
   "execution_count": 17,
   "metadata": {},
   "outputs": [],
   "source": [
    "train = train.drop(train[train['passenger_count']==208].index, axis = 0)"
   ]
  },
  {
   "cell_type": "code",
   "execution_count": 18,
   "metadata": {},
   "outputs": [
    {
     "data": {
      "text/html": [
       "<div>\n",
       "<style scoped>\n",
       "    .dataframe tbody tr th:only-of-type {\n",
       "        vertical-align: middle;\n",
       "    }\n",
       "\n",
       "    .dataframe tbody tr th {\n",
       "        vertical-align: top;\n",
       "    }\n",
       "\n",
       "    .dataframe thead th {\n",
       "        text-align: right;\n",
       "    }\n",
       "</style>\n",
       "<table border=\"1\" class=\"dataframe\">\n",
       "  <thead>\n",
       "    <tr style=\"text-align: right;\">\n",
       "      <th></th>\n",
       "      <th>key</th>\n",
       "      <th>fare_amount</th>\n",
       "      <th>pickup_datetime</th>\n",
       "      <th>pickup_longitude</th>\n",
       "      <th>pickup_latitude</th>\n",
       "      <th>dropoff_longitude</th>\n",
       "      <th>dropoff_latitude</th>\n",
       "      <th>passenger_count</th>\n",
       "    </tr>\n",
       "  </thead>\n",
       "  <tbody>\n",
       "    <tr>\n",
       "      <th>1007609</th>\n",
       "      <td>2014-06-24 15:13:00.00000040</td>\n",
       "      <td>104.00</td>\n",
       "      <td>2014-06-24 15:13:00 UTC</td>\n",
       "      <td>-74.015780</td>\n",
       "      <td>40.715420</td>\n",
       "      <td>-74.170280</td>\n",
       "      <td>40.708340</td>\n",
       "      <td>9</td>\n",
       "    </tr>\n",
       "    <tr>\n",
       "      <th>3323791</th>\n",
       "      <td>2011-08-27 01:24:00.000000168</td>\n",
       "      <td>8.50</td>\n",
       "      <td>2011-08-27 01:24:00 UTC</td>\n",
       "      <td>-73.987858</td>\n",
       "      <td>40.760340</td>\n",
       "      <td>-74.000682</td>\n",
       "      <td>40.752413</td>\n",
       "      <td>129</td>\n",
       "    </tr>\n",
       "    <tr>\n",
       "      <th>4095440</th>\n",
       "      <td>2015-06-14 08:56:16.0000001</td>\n",
       "      <td>37.04</td>\n",
       "      <td>2015-06-14 08:56:16 UTC</td>\n",
       "      <td>-73.982094</td>\n",
       "      <td>40.756252</td>\n",
       "      <td>-73.872482</td>\n",
       "      <td>40.774506</td>\n",
       "      <td>9</td>\n",
       "    </tr>\n",
       "    <tr>\n",
       "      <th>4467314</th>\n",
       "      <td>2015-01-01 21:32:16.0000007</td>\n",
       "      <td>8.50</td>\n",
       "      <td>2015-01-01 21:32:16 UTC</td>\n",
       "      <td>-74.005867</td>\n",
       "      <td>40.740643</td>\n",
       "      <td>-73.988045</td>\n",
       "      <td>40.735100</td>\n",
       "      <td>7</td>\n",
       "    </tr>\n",
       "    <tr>\n",
       "      <th>4679603</th>\n",
       "      <td>2010-02-20 01:53:00.00000037</td>\n",
       "      <td>9.30</td>\n",
       "      <td>2010-02-20 01:53:00 UTC</td>\n",
       "      <td>0.554830</td>\n",
       "      <td>0.000000</td>\n",
       "      <td>-2069.478952</td>\n",
       "      <td>28.121107</td>\n",
       "      <td>51</td>\n",
       "    </tr>\n",
       "  </tbody>\n",
       "</table>\n",
       "</div>"
      ],
      "text/plain": [
       "                                   key  fare_amount          pickup_datetime  \\\n",
       "1007609   2014-06-24 15:13:00.00000040       104.00  2014-06-24 15:13:00 UTC   \n",
       "3323791  2011-08-27 01:24:00.000000168         8.50  2011-08-27 01:24:00 UTC   \n",
       "4095440    2015-06-14 08:56:16.0000001        37.04  2015-06-14 08:56:16 UTC   \n",
       "4467314    2015-01-01 21:32:16.0000007         8.50  2015-01-01 21:32:16 UTC   \n",
       "4679603   2010-02-20 01:53:00.00000037         9.30  2010-02-20 01:53:00 UTC   \n",
       "\n",
       "         pickup_longitude  pickup_latitude  dropoff_longitude  \\\n",
       "1007609        -74.015780        40.715420         -74.170280   \n",
       "3323791        -73.987858        40.760340         -74.000682   \n",
       "4095440        -73.982094        40.756252         -73.872482   \n",
       "4467314        -74.005867        40.740643         -73.988045   \n",
       "4679603          0.554830         0.000000       -2069.478952   \n",
       "\n",
       "         dropoff_latitude  passenger_count  \n",
       "1007609         40.708340                9  \n",
       "3323791         40.752413              129  \n",
       "4095440         40.774506                9  \n",
       "4467314         40.735100                7  \n",
       "4679603         28.121107               51  "
      ]
     },
     "execution_count": 18,
     "metadata": {},
     "output_type": "execute_result"
    }
   ],
   "source": [
    "train[train['passenger_count']>6]"
   ]
  },
  {
   "cell_type": "code",
   "execution_count": 19,
   "metadata": {},
   "outputs": [
    {
     "data": {
      "text/plain": [
       "count    4.999746e+06\n",
       "mean     1.684413e+00\n",
       "std      1.309285e+00\n",
       "min      0.000000e+00\n",
       "25%      1.000000e+00\n",
       "50%      1.000000e+00\n",
       "75%      2.000000e+00\n",
       "max      1.290000e+02\n",
       "Name: passenger_count, dtype: float64"
      ]
     },
     "execution_count": 19,
     "metadata": {},
     "output_type": "execute_result"
    }
   ],
   "source": [
    "train['passenger_count'].describe()\n"
   ]
  },
  {
   "cell_type": "code",
   "execution_count": 20,
   "metadata": {},
   "outputs": [
    {
     "data": {
      "text/plain": [
       "count    4.999746e+06\n",
       "mean     3.991991e+01\n",
       "std      8.963290e+00\n",
       "min     -3.488080e+03\n",
       "25%      4.073491e+01\n",
       "50%      4.075263e+01\n",
       "75%      4.076711e+01\n",
       "max      3.310364e+03\n",
       "Name: pickup_latitude, dtype: float64"
      ]
     },
     "execution_count": 20,
     "metadata": {},
     "output_type": "execute_result"
    }
   ],
   "source": [
    "#Next, let us explore the pickup latitude and longitudes\n",
    "train['pickup_latitude'].describe()\n"
   ]
  },
  {
   "cell_type": "markdown",
   "metadata": {},
   "source": [
    "Quick Googling gave me this info\n",
    "\n",
    "Latitudes range from -90 to 90.\n",
    "Longitudes range from -180 to 180.\n",
    "The above describe clearly shows some outliers. Let's filter them"
   ]
  },
  {
   "cell_type": "code",
   "execution_count": 21,
   "metadata": {},
   "outputs": [
    {
     "data": {
      "text/html": [
       "<div>\n",
       "<style scoped>\n",
       "    .dataframe tbody tr th:only-of-type {\n",
       "        vertical-align: middle;\n",
       "    }\n",
       "\n",
       "    .dataframe tbody tr th {\n",
       "        vertical-align: top;\n",
       "    }\n",
       "\n",
       "    .dataframe thead th {\n",
       "        text-align: right;\n",
       "    }\n",
       "</style>\n",
       "<table border=\"1\" class=\"dataframe\">\n",
       "  <thead>\n",
       "    <tr style=\"text-align: right;\">\n",
       "      <th></th>\n",
       "      <th>key</th>\n",
       "      <th>fare_amount</th>\n",
       "      <th>pickup_datetime</th>\n",
       "      <th>pickup_longitude</th>\n",
       "      <th>pickup_latitude</th>\n",
       "      <th>dropoff_longitude</th>\n",
       "      <th>dropoff_latitude</th>\n",
       "      <th>passenger_count</th>\n",
       "    </tr>\n",
       "  </thead>\n",
       "  <tbody>\n",
       "    <tr>\n",
       "      <th>150559</th>\n",
       "      <td>2012-08-03 07:43:00.000000176</td>\n",
       "      <td>25.3</td>\n",
       "      <td>2012-08-03 07:43:00 UTC</td>\n",
       "      <td>0.000000</td>\n",
       "      <td>-3116.285383</td>\n",
       "      <td>-73.953600</td>\n",
       "      <td>40.787998</td>\n",
       "      <td>1</td>\n",
       "    </tr>\n",
       "    <tr>\n",
       "      <th>436233</th>\n",
       "      <td>2012-03-11 01:56:00.000000100</td>\n",
       "      <td>4.1</td>\n",
       "      <td>2012-03-11 01:56:00 UTC</td>\n",
       "      <td>-2986.242495</td>\n",
       "      <td>-880.627428</td>\n",
       "      <td>-3383.296608</td>\n",
       "      <td>-2559.748913</td>\n",
       "      <td>1</td>\n",
       "    </tr>\n",
       "    <tr>\n",
       "      <th>543001</th>\n",
       "      <td>2011-10-28 13:53:00.000000178</td>\n",
       "      <td>5.3</td>\n",
       "      <td>2011-10-28 13:53:00 UTC</td>\n",
       "      <td>-3377.680935</td>\n",
       "      <td>-113.019497</td>\n",
       "      <td>-554.918693</td>\n",
       "      <td>314.794180</td>\n",
       "      <td>1</td>\n",
       "    </tr>\n",
       "    <tr>\n",
       "      <th>1281413</th>\n",
       "      <td>2011-09-02 22:51:00.000000213</td>\n",
       "      <td>11.3</td>\n",
       "      <td>2011-09-02 22:51:00 UTC</td>\n",
       "      <td>-2256.421232</td>\n",
       "      <td>-1185.391185</td>\n",
       "      <td>-2256.421232</td>\n",
       "      <td>-1185.391185</td>\n",
       "      <td>1</td>\n",
       "    </tr>\n",
       "    <tr>\n",
       "      <th>1340837</th>\n",
       "      <td>2011-06-09 10:39:00.000000137</td>\n",
       "      <td>10.1</td>\n",
       "      <td>2011-06-09 10:39:00 UTC</td>\n",
       "      <td>2434.238557</td>\n",
       "      <td>-3458.664702</td>\n",
       "      <td>-1281.933787</td>\n",
       "      <td>-104.637653</td>\n",
       "      <td>1</td>\n",
       "    </tr>\n",
       "    <tr>\n",
       "      <th>1388984</th>\n",
       "      <td>2012-01-18 21:33:00.00000068</td>\n",
       "      <td>11.3</td>\n",
       "      <td>2012-01-18 21:33:00 UTC</td>\n",
       "      <td>-1649.643088</td>\n",
       "      <td>-849.829532</td>\n",
       "      <td>2842.474030</td>\n",
       "      <td>3345.917353</td>\n",
       "      <td>1</td>\n",
       "    </tr>\n",
       "    <tr>\n",
       "      <th>1606685</th>\n",
       "      <td>2011-07-05 17:10:00.00000063</td>\n",
       "      <td>4.9</td>\n",
       "      <td>2011-07-05 17:10:00 UTC</td>\n",
       "      <td>-1329.480383</td>\n",
       "      <td>-764.564600</td>\n",
       "      <td>3382.125693</td>\n",
       "      <td>-1160.217295</td>\n",
       "      <td>1</td>\n",
       "    </tr>\n",
       "    <tr>\n",
       "      <th>1781778</th>\n",
       "      <td>2011-10-13 07:10:00.00000014</td>\n",
       "      <td>6.5</td>\n",
       "      <td>2011-10-13 07:10:00 UTC</td>\n",
       "      <td>-1659.514697</td>\n",
       "      <td>-821.904472</td>\n",
       "      <td>-1659.514697</td>\n",
       "      <td>-821.904472</td>\n",
       "      <td>1</td>\n",
       "    </tr>\n",
       "    <tr>\n",
       "      <th>2035826</th>\n",
       "      <td>2012-01-11 23:48:00.000000139</td>\n",
       "      <td>6.1</td>\n",
       "      <td>2012-01-11 23:48:00 UTC</td>\n",
       "      <td>-3313.387292</td>\n",
       "      <td>-812.119530</td>\n",
       "      <td>-567.531472</td>\n",
       "      <td>-2545.761383</td>\n",
       "      <td>1</td>\n",
       "    </tr>\n",
       "    <tr>\n",
       "      <th>2037003</th>\n",
       "      <td>2011-05-22 17:08:00.000000163</td>\n",
       "      <td>7.3</td>\n",
       "      <td>2011-05-22 17:08:00 UTC</td>\n",
       "      <td>-2995.982437</td>\n",
       "      <td>-2847.702303</td>\n",
       "      <td>-1265.146753</td>\n",
       "      <td>-16.566552</td>\n",
       "      <td>1</td>\n",
       "    </tr>\n",
       "    <tr>\n",
       "      <th>2612104</th>\n",
       "      <td>2011-09-10 09:35:00.00000085</td>\n",
       "      <td>4.5</td>\n",
       "      <td>2011-09-10 09:35:00 UTC</td>\n",
       "      <td>408.352392</td>\n",
       "      <td>-3488.079513</td>\n",
       "      <td>408.352392</td>\n",
       "      <td>-3488.079513</td>\n",
       "      <td>1</td>\n",
       "    </tr>\n",
       "    <tr>\n",
       "      <th>2862434</th>\n",
       "      <td>2011-06-18 02:46:00.000000125</td>\n",
       "      <td>6.5</td>\n",
       "      <td>2011-06-18 02:46:00 UTC</td>\n",
       "      <td>976.004115</td>\n",
       "      <td>-3258.765613</td>\n",
       "      <td>2072.104928</td>\n",
       "      <td>-834.462250</td>\n",
       "      <td>1</td>\n",
       "    </tr>\n",
       "    <tr>\n",
       "      <th>2921745</th>\n",
       "      <td>2011-10-06 09:59:00.00000070</td>\n",
       "      <td>10.5</td>\n",
       "      <td>2011-10-06 09:59:00 UTC</td>\n",
       "      <td>-1351.868103</td>\n",
       "      <td>-772.946457</td>\n",
       "      <td>3457.622350</td>\n",
       "      <td>-2087.151477</td>\n",
       "      <td>1</td>\n",
       "    </tr>\n",
       "    <tr>\n",
       "      <th>2982842</th>\n",
       "      <td>2012-03-09 17:45:00.000000225</td>\n",
       "      <td>5.7</td>\n",
       "      <td>2012-03-09 17:45:00 UTC</td>\n",
       "      <td>2128.011715</td>\n",
       "      <td>-451.375667</td>\n",
       "      <td>2128.011715</td>\n",
       "      <td>-451.375667</td>\n",
       "      <td>1</td>\n",
       "    </tr>\n",
       "    <tr>\n",
       "      <th>2983841</th>\n",
       "      <td>2011-07-29 12:02:00.00000093</td>\n",
       "      <td>5.7</td>\n",
       "      <td>2011-07-29 12:02:00 UTC</td>\n",
       "      <td>2130.812885</td>\n",
       "      <td>-1765.599020</td>\n",
       "      <td>3411.463838</td>\n",
       "      <td>-78.089012</td>\n",
       "      <td>1</td>\n",
       "    </tr>\n",
       "    <tr>\n",
       "      <th>3044791</th>\n",
       "      <td>2011-06-17 21:30:00.000000201</td>\n",
       "      <td>12.1</td>\n",
       "      <td>2011-06-17 21:30:00 UTC</td>\n",
       "      <td>2072.113262</td>\n",
       "      <td>-2573.686443</td>\n",
       "      <td>1182.895748</td>\n",
       "      <td>-1390.934280</td>\n",
       "      <td>1</td>\n",
       "    </tr>\n",
       "    <tr>\n",
       "      <th>3102900</th>\n",
       "      <td>2012-03-01 22:56:00.000000183</td>\n",
       "      <td>8.1</td>\n",
       "      <td>2012-03-01 22:56:00 UTC</td>\n",
       "      <td>374.828325</td>\n",
       "      <td>-2503.765460</td>\n",
       "      <td>755.112072</td>\n",
       "      <td>-3271.296725</td>\n",
       "      <td>1</td>\n",
       "    </tr>\n",
       "    <tr>\n",
       "      <th>3229948</th>\n",
       "      <td>2012-02-22 13:09:00.00000086</td>\n",
       "      <td>6.5</td>\n",
       "      <td>2012-02-22 13:09:00 UTC</td>\n",
       "      <td>-2975.047802</td>\n",
       "      <td>-1757.195497</td>\n",
       "      <td>2497.105768</td>\n",
       "      <td>2589.499115</td>\n",
       "      <td>1</td>\n",
       "    </tr>\n",
       "    <tr>\n",
       "      <th>3263161</th>\n",
       "      <td>2012-03-06 11:39:00.00000037</td>\n",
       "      <td>10.5</td>\n",
       "      <td>2012-03-06 11:39:00 UTC</td>\n",
       "      <td>-3348.349457</td>\n",
       "      <td>-2092.738817</td>\n",
       "      <td>-3348.349457</td>\n",
       "      <td>-2092.738817</td>\n",
       "      <td>1</td>\n",
       "    </tr>\n",
       "    <tr>\n",
       "      <th>3501205</th>\n",
       "      <td>2012-01-15 00:43:00.000000248</td>\n",
       "      <td>4.5</td>\n",
       "      <td>2012-01-15 00:43:00 UTC</td>\n",
       "      <td>2857.839645</td>\n",
       "      <td>-2103.946843</td>\n",
       "      <td>-3412.653087</td>\n",
       "      <td>-1753.034575</td>\n",
       "      <td>1</td>\n",
       "    </tr>\n",
       "    <tr>\n",
       "      <th>4127802</th>\n",
       "      <td>2011-11-16 11:15:00.00000051</td>\n",
       "      <td>6.9</td>\n",
       "      <td>2011-11-16 11:15:00 UTC</td>\n",
       "      <td>-13.887278</td>\n",
       "      <td>-2105.344928</td>\n",
       "      <td>3063.346073</td>\n",
       "      <td>-501.733433</td>\n",
       "      <td>1</td>\n",
       "    </tr>\n",
       "    <tr>\n",
       "      <th>4167774</th>\n",
       "      <td>2011-05-25 10:02:00.000000154</td>\n",
       "      <td>20.9</td>\n",
       "      <td>2011-05-25 10:02:00 UTC</td>\n",
       "      <td>-2404.643242</td>\n",
       "      <td>-110.283327</td>\n",
       "      <td>-1251.175890</td>\n",
       "      <td>-810.681445</td>\n",
       "      <td>1</td>\n",
       "    </tr>\n",
       "    <tr>\n",
       "      <th>4214024</th>\n",
       "      <td>2012-01-13 11:07:00.000000139</td>\n",
       "      <td>22.9</td>\n",
       "      <td>2012-01-13 11:07:00 UTC</td>\n",
       "      <td>-915.660903</td>\n",
       "      <td>-823.300890</td>\n",
       "      <td>2820.124643</td>\n",
       "      <td>-44.476612</td>\n",
       "      <td>1</td>\n",
       "    </tr>\n",
       "    <tr>\n",
       "      <th>4428674</th>\n",
       "      <td>2012-01-28 18:40:00.000000180</td>\n",
       "      <td>9.7</td>\n",
       "      <td>2012-01-28 18:40:00 UTC</td>\n",
       "      <td>2449.577505</td>\n",
       "      <td>-2164.047885</td>\n",
       "      <td>2449.577505</td>\n",
       "      <td>-2164.047885</td>\n",
       "      <td>1</td>\n",
       "    </tr>\n",
       "    <tr>\n",
       "      <th>4584823</th>\n",
       "      <td>2011-12-16 23:15:00.000000215</td>\n",
       "      <td>4.1</td>\n",
       "      <td>2011-12-16 23:15:00 UTC</td>\n",
       "      <td>-324.328375</td>\n",
       "      <td>-452.805418</td>\n",
       "      <td>-324.328375</td>\n",
       "      <td>-452.805418</td>\n",
       "      <td>1</td>\n",
       "    </tr>\n",
       "    <tr>\n",
       "      <th>4988718</th>\n",
       "      <td>2011-07-11 19:26:00.000000230</td>\n",
       "      <td>7.3</td>\n",
       "      <td>2011-07-11 19:26:00 UTC</td>\n",
       "      <td>-0.108333</td>\n",
       "      <td>-2875.666330</td>\n",
       "      <td>-74.001840</td>\n",
       "      <td>40.728355</td>\n",
       "      <td>2</td>\n",
       "    </tr>\n",
       "  </tbody>\n",
       "</table>\n",
       "</div>"
      ],
      "text/plain": [
       "                                   key  fare_amount          pickup_datetime  \\\n",
       "150559   2012-08-03 07:43:00.000000176         25.3  2012-08-03 07:43:00 UTC   \n",
       "436233   2012-03-11 01:56:00.000000100          4.1  2012-03-11 01:56:00 UTC   \n",
       "543001   2011-10-28 13:53:00.000000178          5.3  2011-10-28 13:53:00 UTC   \n",
       "1281413  2011-09-02 22:51:00.000000213         11.3  2011-09-02 22:51:00 UTC   \n",
       "1340837  2011-06-09 10:39:00.000000137         10.1  2011-06-09 10:39:00 UTC   \n",
       "1388984   2012-01-18 21:33:00.00000068         11.3  2012-01-18 21:33:00 UTC   \n",
       "1606685   2011-07-05 17:10:00.00000063          4.9  2011-07-05 17:10:00 UTC   \n",
       "1781778   2011-10-13 07:10:00.00000014          6.5  2011-10-13 07:10:00 UTC   \n",
       "2035826  2012-01-11 23:48:00.000000139          6.1  2012-01-11 23:48:00 UTC   \n",
       "2037003  2011-05-22 17:08:00.000000163          7.3  2011-05-22 17:08:00 UTC   \n",
       "2612104   2011-09-10 09:35:00.00000085          4.5  2011-09-10 09:35:00 UTC   \n",
       "2862434  2011-06-18 02:46:00.000000125          6.5  2011-06-18 02:46:00 UTC   \n",
       "2921745   2011-10-06 09:59:00.00000070         10.5  2011-10-06 09:59:00 UTC   \n",
       "2982842  2012-03-09 17:45:00.000000225          5.7  2012-03-09 17:45:00 UTC   \n",
       "2983841   2011-07-29 12:02:00.00000093          5.7  2011-07-29 12:02:00 UTC   \n",
       "3044791  2011-06-17 21:30:00.000000201         12.1  2011-06-17 21:30:00 UTC   \n",
       "3102900  2012-03-01 22:56:00.000000183          8.1  2012-03-01 22:56:00 UTC   \n",
       "3229948   2012-02-22 13:09:00.00000086          6.5  2012-02-22 13:09:00 UTC   \n",
       "3263161   2012-03-06 11:39:00.00000037         10.5  2012-03-06 11:39:00 UTC   \n",
       "3501205  2012-01-15 00:43:00.000000248          4.5  2012-01-15 00:43:00 UTC   \n",
       "4127802   2011-11-16 11:15:00.00000051          6.9  2011-11-16 11:15:00 UTC   \n",
       "4167774  2011-05-25 10:02:00.000000154         20.9  2011-05-25 10:02:00 UTC   \n",
       "4214024  2012-01-13 11:07:00.000000139         22.9  2012-01-13 11:07:00 UTC   \n",
       "4428674  2012-01-28 18:40:00.000000180          9.7  2012-01-28 18:40:00 UTC   \n",
       "4584823  2011-12-16 23:15:00.000000215          4.1  2011-12-16 23:15:00 UTC   \n",
       "4988718  2011-07-11 19:26:00.000000230          7.3  2011-07-11 19:26:00 UTC   \n",
       "\n",
       "         pickup_longitude  pickup_latitude  dropoff_longitude  \\\n",
       "150559           0.000000     -3116.285383         -73.953600   \n",
       "436233       -2986.242495      -880.627428       -3383.296608   \n",
       "543001       -3377.680935      -113.019497        -554.918693   \n",
       "1281413      -2256.421232     -1185.391185       -2256.421232   \n",
       "1340837       2434.238557     -3458.664702       -1281.933787   \n",
       "1388984      -1649.643088      -849.829532        2842.474030   \n",
       "1606685      -1329.480383      -764.564600        3382.125693   \n",
       "1781778      -1659.514697      -821.904472       -1659.514697   \n",
       "2035826      -3313.387292      -812.119530        -567.531472   \n",
       "2037003      -2995.982437     -2847.702303       -1265.146753   \n",
       "2612104        408.352392     -3488.079513         408.352392   \n",
       "2862434        976.004115     -3258.765613        2072.104928   \n",
       "2921745      -1351.868103      -772.946457        3457.622350   \n",
       "2982842       2128.011715      -451.375667        2128.011715   \n",
       "2983841       2130.812885     -1765.599020        3411.463838   \n",
       "3044791       2072.113262     -2573.686443        1182.895748   \n",
       "3102900        374.828325     -2503.765460         755.112072   \n",
       "3229948      -2975.047802     -1757.195497        2497.105768   \n",
       "3263161      -3348.349457     -2092.738817       -3348.349457   \n",
       "3501205       2857.839645     -2103.946843       -3412.653087   \n",
       "4127802        -13.887278     -2105.344928        3063.346073   \n",
       "4167774      -2404.643242      -110.283327       -1251.175890   \n",
       "4214024       -915.660903      -823.300890        2820.124643   \n",
       "4428674       2449.577505     -2164.047885        2449.577505   \n",
       "4584823       -324.328375      -452.805418        -324.328375   \n",
       "4988718         -0.108333     -2875.666330         -74.001840   \n",
       "\n",
       "         dropoff_latitude  passenger_count  \n",
       "150559          40.787998                1  \n",
       "436233       -2559.748913                1  \n",
       "543001         314.794180                1  \n",
       "1281413      -1185.391185                1  \n",
       "1340837       -104.637653                1  \n",
       "1388984       3345.917353                1  \n",
       "1606685      -1160.217295                1  \n",
       "1781778       -821.904472                1  \n",
       "2035826      -2545.761383                1  \n",
       "2037003        -16.566552                1  \n",
       "2612104      -3488.079513                1  \n",
       "2862434       -834.462250                1  \n",
       "2921745      -2087.151477                1  \n",
       "2982842       -451.375667                1  \n",
       "2983841        -78.089012                1  \n",
       "3044791      -1390.934280                1  \n",
       "3102900      -3271.296725                1  \n",
       "3229948       2589.499115                1  \n",
       "3263161      -2092.738817                1  \n",
       "3501205      -1753.034575                1  \n",
       "4127802       -501.733433                1  \n",
       "4167774       -810.681445                1  \n",
       "4214024        -44.476612                1  \n",
       "4428674      -2164.047885                1  \n",
       "4584823       -452.805418                1  \n",
       "4988718         40.728355                2  "
      ]
     },
     "execution_count": 21,
     "metadata": {},
     "output_type": "execute_result"
    }
   ],
   "source": [
    "train[train['pickup_latitude']<-90]"
   ]
  },
  {
   "cell_type": "code",
   "execution_count": 121,
   "metadata": {},
   "outputs": [],
   "source": [
    "#train[train['pickup_latitude']>90]"
   ]
  },
  {
   "cell_type": "code",
   "execution_count": 23,
   "metadata": {},
   "outputs": [],
   "source": [
    "#We need to drop these outliers\n",
    "train = train[(train['pickup_latitude']<-90) &(train['pickup_latitude']<90)]"
   ]
  },
  {
   "cell_type": "code",
   "execution_count": 24,
   "metadata": {},
   "outputs": [
    {
     "data": {
      "text/plain": [
       "count      26.000000\n",
       "mean     -579.633371\n",
       "std      2070.857245\n",
       "min     -3377.680935\n",
       "25%     -2367.587740\n",
       "50%      -619.994639\n",
       "75%       834.091184\n",
       "max      2857.839645\n",
       "Name: pickup_longitude, dtype: float64"
      ]
     },
     "execution_count": 24,
     "metadata": {},
     "output_type": "execute_result"
    }
   ],
   "source": [
    "train['pickup_longitude'].describe()"
   ]
  },
  {
   "cell_type": "code",
   "execution_count": 25,
   "metadata": {},
   "outputs": [
    {
     "data": {
      "text/html": [
       "<div>\n",
       "<style scoped>\n",
       "    .dataframe tbody tr th:only-of-type {\n",
       "        vertical-align: middle;\n",
       "    }\n",
       "\n",
       "    .dataframe tbody tr th {\n",
       "        vertical-align: top;\n",
       "    }\n",
       "\n",
       "    .dataframe thead th {\n",
       "        text-align: right;\n",
       "    }\n",
       "</style>\n",
       "<table border=\"1\" class=\"dataframe\">\n",
       "  <thead>\n",
       "    <tr style=\"text-align: right;\">\n",
       "      <th></th>\n",
       "      <th>key</th>\n",
       "      <th>fare_amount</th>\n",
       "      <th>pickup_datetime</th>\n",
       "      <th>pickup_longitude</th>\n",
       "      <th>pickup_latitude</th>\n",
       "      <th>dropoff_longitude</th>\n",
       "      <th>dropoff_latitude</th>\n",
       "      <th>passenger_count</th>\n",
       "    </tr>\n",
       "  </thead>\n",
       "  <tbody>\n",
       "    <tr>\n",
       "      <th>436233</th>\n",
       "      <td>2012-03-11 01:56:00.000000100</td>\n",
       "      <td>4.1</td>\n",
       "      <td>2012-03-11 01:56:00 UTC</td>\n",
       "      <td>-2986.242495</td>\n",
       "      <td>-880.627428</td>\n",
       "      <td>-3383.296608</td>\n",
       "      <td>-2559.748913</td>\n",
       "      <td>1</td>\n",
       "    </tr>\n",
       "    <tr>\n",
       "      <th>543001</th>\n",
       "      <td>2011-10-28 13:53:00.000000178</td>\n",
       "      <td>5.3</td>\n",
       "      <td>2011-10-28 13:53:00 UTC</td>\n",
       "      <td>-3377.680935</td>\n",
       "      <td>-113.019497</td>\n",
       "      <td>-554.918693</td>\n",
       "      <td>314.794180</td>\n",
       "      <td>1</td>\n",
       "    </tr>\n",
       "    <tr>\n",
       "      <th>1281413</th>\n",
       "      <td>2011-09-02 22:51:00.000000213</td>\n",
       "      <td>11.3</td>\n",
       "      <td>2011-09-02 22:51:00 UTC</td>\n",
       "      <td>-2256.421232</td>\n",
       "      <td>-1185.391185</td>\n",
       "      <td>-2256.421232</td>\n",
       "      <td>-1185.391185</td>\n",
       "      <td>1</td>\n",
       "    </tr>\n",
       "    <tr>\n",
       "      <th>1388984</th>\n",
       "      <td>2012-01-18 21:33:00.00000068</td>\n",
       "      <td>11.3</td>\n",
       "      <td>2012-01-18 21:33:00 UTC</td>\n",
       "      <td>-1649.643088</td>\n",
       "      <td>-849.829532</td>\n",
       "      <td>2842.474030</td>\n",
       "      <td>3345.917353</td>\n",
       "      <td>1</td>\n",
       "    </tr>\n",
       "    <tr>\n",
       "      <th>1606685</th>\n",
       "      <td>2011-07-05 17:10:00.00000063</td>\n",
       "      <td>4.9</td>\n",
       "      <td>2011-07-05 17:10:00 UTC</td>\n",
       "      <td>-1329.480383</td>\n",
       "      <td>-764.564600</td>\n",
       "      <td>3382.125693</td>\n",
       "      <td>-1160.217295</td>\n",
       "      <td>1</td>\n",
       "    </tr>\n",
       "    <tr>\n",
       "      <th>1781778</th>\n",
       "      <td>2011-10-13 07:10:00.00000014</td>\n",
       "      <td>6.5</td>\n",
       "      <td>2011-10-13 07:10:00 UTC</td>\n",
       "      <td>-1659.514697</td>\n",
       "      <td>-821.904472</td>\n",
       "      <td>-1659.514697</td>\n",
       "      <td>-821.904472</td>\n",
       "      <td>1</td>\n",
       "    </tr>\n",
       "    <tr>\n",
       "      <th>2035826</th>\n",
       "      <td>2012-01-11 23:48:00.000000139</td>\n",
       "      <td>6.1</td>\n",
       "      <td>2012-01-11 23:48:00 UTC</td>\n",
       "      <td>-3313.387292</td>\n",
       "      <td>-812.119530</td>\n",
       "      <td>-567.531472</td>\n",
       "      <td>-2545.761383</td>\n",
       "      <td>1</td>\n",
       "    </tr>\n",
       "    <tr>\n",
       "      <th>2037003</th>\n",
       "      <td>2011-05-22 17:08:00.000000163</td>\n",
       "      <td>7.3</td>\n",
       "      <td>2011-05-22 17:08:00 UTC</td>\n",
       "      <td>-2995.982437</td>\n",
       "      <td>-2847.702303</td>\n",
       "      <td>-1265.146753</td>\n",
       "      <td>-16.566552</td>\n",
       "      <td>1</td>\n",
       "    </tr>\n",
       "    <tr>\n",
       "      <th>2921745</th>\n",
       "      <td>2011-10-06 09:59:00.00000070</td>\n",
       "      <td>10.5</td>\n",
       "      <td>2011-10-06 09:59:00 UTC</td>\n",
       "      <td>-1351.868103</td>\n",
       "      <td>-772.946457</td>\n",
       "      <td>3457.622350</td>\n",
       "      <td>-2087.151477</td>\n",
       "      <td>1</td>\n",
       "    </tr>\n",
       "    <tr>\n",
       "      <th>3229948</th>\n",
       "      <td>2012-02-22 13:09:00.00000086</td>\n",
       "      <td>6.5</td>\n",
       "      <td>2012-02-22 13:09:00 UTC</td>\n",
       "      <td>-2975.047802</td>\n",
       "      <td>-1757.195497</td>\n",
       "      <td>2497.105768</td>\n",
       "      <td>2589.499115</td>\n",
       "      <td>1</td>\n",
       "    </tr>\n",
       "    <tr>\n",
       "      <th>3263161</th>\n",
       "      <td>2012-03-06 11:39:00.00000037</td>\n",
       "      <td>10.5</td>\n",
       "      <td>2012-03-06 11:39:00 UTC</td>\n",
       "      <td>-3348.349457</td>\n",
       "      <td>-2092.738817</td>\n",
       "      <td>-3348.349457</td>\n",
       "      <td>-2092.738817</td>\n",
       "      <td>1</td>\n",
       "    </tr>\n",
       "    <tr>\n",
       "      <th>4167774</th>\n",
       "      <td>2011-05-25 10:02:00.000000154</td>\n",
       "      <td>20.9</td>\n",
       "      <td>2011-05-25 10:02:00 UTC</td>\n",
       "      <td>-2404.643242</td>\n",
       "      <td>-110.283327</td>\n",
       "      <td>-1251.175890</td>\n",
       "      <td>-810.681445</td>\n",
       "      <td>1</td>\n",
       "    </tr>\n",
       "    <tr>\n",
       "      <th>4214024</th>\n",
       "      <td>2012-01-13 11:07:00.000000139</td>\n",
       "      <td>22.9</td>\n",
       "      <td>2012-01-13 11:07:00 UTC</td>\n",
       "      <td>-915.660903</td>\n",
       "      <td>-823.300890</td>\n",
       "      <td>2820.124643</td>\n",
       "      <td>-44.476612</td>\n",
       "      <td>1</td>\n",
       "    </tr>\n",
       "    <tr>\n",
       "      <th>4584823</th>\n",
       "      <td>2011-12-16 23:15:00.000000215</td>\n",
       "      <td>4.1</td>\n",
       "      <td>2011-12-16 23:15:00 UTC</td>\n",
       "      <td>-324.328375</td>\n",
       "      <td>-452.805418</td>\n",
       "      <td>-324.328375</td>\n",
       "      <td>-452.805418</td>\n",
       "      <td>1</td>\n",
       "    </tr>\n",
       "  </tbody>\n",
       "</table>\n",
       "</div>"
      ],
      "text/plain": [
       "                                   key  fare_amount          pickup_datetime  \\\n",
       "436233   2012-03-11 01:56:00.000000100          4.1  2012-03-11 01:56:00 UTC   \n",
       "543001   2011-10-28 13:53:00.000000178          5.3  2011-10-28 13:53:00 UTC   \n",
       "1281413  2011-09-02 22:51:00.000000213         11.3  2011-09-02 22:51:00 UTC   \n",
       "1388984   2012-01-18 21:33:00.00000068         11.3  2012-01-18 21:33:00 UTC   \n",
       "1606685   2011-07-05 17:10:00.00000063          4.9  2011-07-05 17:10:00 UTC   \n",
       "1781778   2011-10-13 07:10:00.00000014          6.5  2011-10-13 07:10:00 UTC   \n",
       "2035826  2012-01-11 23:48:00.000000139          6.1  2012-01-11 23:48:00 UTC   \n",
       "2037003  2011-05-22 17:08:00.000000163          7.3  2011-05-22 17:08:00 UTC   \n",
       "2921745   2011-10-06 09:59:00.00000070         10.5  2011-10-06 09:59:00 UTC   \n",
       "3229948   2012-02-22 13:09:00.00000086          6.5  2012-02-22 13:09:00 UTC   \n",
       "3263161   2012-03-06 11:39:00.00000037         10.5  2012-03-06 11:39:00 UTC   \n",
       "4167774  2011-05-25 10:02:00.000000154         20.9  2011-05-25 10:02:00 UTC   \n",
       "4214024  2012-01-13 11:07:00.000000139         22.9  2012-01-13 11:07:00 UTC   \n",
       "4584823  2011-12-16 23:15:00.000000215          4.1  2011-12-16 23:15:00 UTC   \n",
       "\n",
       "         pickup_longitude  pickup_latitude  dropoff_longitude  \\\n",
       "436233       -2986.242495      -880.627428       -3383.296608   \n",
       "543001       -3377.680935      -113.019497        -554.918693   \n",
       "1281413      -2256.421232     -1185.391185       -2256.421232   \n",
       "1388984      -1649.643088      -849.829532        2842.474030   \n",
       "1606685      -1329.480383      -764.564600        3382.125693   \n",
       "1781778      -1659.514697      -821.904472       -1659.514697   \n",
       "2035826      -3313.387292      -812.119530        -567.531472   \n",
       "2037003      -2995.982437     -2847.702303       -1265.146753   \n",
       "2921745      -1351.868103      -772.946457        3457.622350   \n",
       "3229948      -2975.047802     -1757.195497        2497.105768   \n",
       "3263161      -3348.349457     -2092.738817       -3348.349457   \n",
       "4167774      -2404.643242      -110.283327       -1251.175890   \n",
       "4214024       -915.660903      -823.300890        2820.124643   \n",
       "4584823       -324.328375      -452.805418        -324.328375   \n",
       "\n",
       "         dropoff_latitude  passenger_count  \n",
       "436233       -2559.748913                1  \n",
       "543001         314.794180                1  \n",
       "1281413      -1185.391185                1  \n",
       "1388984       3345.917353                1  \n",
       "1606685      -1160.217295                1  \n",
       "1781778       -821.904472                1  \n",
       "2035826      -2545.761383                1  \n",
       "2037003        -16.566552                1  \n",
       "2921745      -2087.151477                1  \n",
       "3229948       2589.499115                1  \n",
       "3263161      -2092.738817                1  \n",
       "4167774       -810.681445                1  \n",
       "4214024        -44.476612                1  \n",
       "4584823       -452.805418                1  "
      ]
     },
     "execution_count": 25,
     "metadata": {},
     "output_type": "execute_result"
    }
   ],
   "source": [
    "train[train['pickup_longitude']<-180]\n"
   ]
  },
  {
   "cell_type": "code",
   "execution_count": 26,
   "metadata": {},
   "outputs": [
    {
     "data": {
      "text/html": [
       "<div>\n",
       "<style scoped>\n",
       "    .dataframe tbody tr th:only-of-type {\n",
       "        vertical-align: middle;\n",
       "    }\n",
       "\n",
       "    .dataframe tbody tr th {\n",
       "        vertical-align: top;\n",
       "    }\n",
       "\n",
       "    .dataframe thead th {\n",
       "        text-align: right;\n",
       "    }\n",
       "</style>\n",
       "<table border=\"1\" class=\"dataframe\">\n",
       "  <thead>\n",
       "    <tr style=\"text-align: right;\">\n",
       "      <th></th>\n",
       "      <th>key</th>\n",
       "      <th>fare_amount</th>\n",
       "      <th>pickup_datetime</th>\n",
       "      <th>pickup_longitude</th>\n",
       "      <th>pickup_latitude</th>\n",
       "      <th>dropoff_longitude</th>\n",
       "      <th>dropoff_latitude</th>\n",
       "      <th>passenger_count</th>\n",
       "    </tr>\n",
       "  </thead>\n",
       "  <tbody>\n",
       "    <tr>\n",
       "      <th>1340837</th>\n",
       "      <td>2011-06-09 10:39:00.000000137</td>\n",
       "      <td>10.1</td>\n",
       "      <td>2011-06-09 10:39:00 UTC</td>\n",
       "      <td>2434.238557</td>\n",
       "      <td>-3458.664702</td>\n",
       "      <td>-1281.933787</td>\n",
       "      <td>-104.637653</td>\n",
       "      <td>1</td>\n",
       "    </tr>\n",
       "    <tr>\n",
       "      <th>2612104</th>\n",
       "      <td>2011-09-10 09:35:00.00000085</td>\n",
       "      <td>4.5</td>\n",
       "      <td>2011-09-10 09:35:00 UTC</td>\n",
       "      <td>408.352392</td>\n",
       "      <td>-3488.079513</td>\n",
       "      <td>408.352392</td>\n",
       "      <td>-3488.079513</td>\n",
       "      <td>1</td>\n",
       "    </tr>\n",
       "    <tr>\n",
       "      <th>2862434</th>\n",
       "      <td>2011-06-18 02:46:00.000000125</td>\n",
       "      <td>6.5</td>\n",
       "      <td>2011-06-18 02:46:00 UTC</td>\n",
       "      <td>976.004115</td>\n",
       "      <td>-3258.765613</td>\n",
       "      <td>2072.104928</td>\n",
       "      <td>-834.462250</td>\n",
       "      <td>1</td>\n",
       "    </tr>\n",
       "    <tr>\n",
       "      <th>2982842</th>\n",
       "      <td>2012-03-09 17:45:00.000000225</td>\n",
       "      <td>5.7</td>\n",
       "      <td>2012-03-09 17:45:00 UTC</td>\n",
       "      <td>2128.011715</td>\n",
       "      <td>-451.375667</td>\n",
       "      <td>2128.011715</td>\n",
       "      <td>-451.375667</td>\n",
       "      <td>1</td>\n",
       "    </tr>\n",
       "    <tr>\n",
       "      <th>2983841</th>\n",
       "      <td>2011-07-29 12:02:00.00000093</td>\n",
       "      <td>5.7</td>\n",
       "      <td>2011-07-29 12:02:00 UTC</td>\n",
       "      <td>2130.812885</td>\n",
       "      <td>-1765.599020</td>\n",
       "      <td>3411.463838</td>\n",
       "      <td>-78.089012</td>\n",
       "      <td>1</td>\n",
       "    </tr>\n",
       "    <tr>\n",
       "      <th>3044791</th>\n",
       "      <td>2011-06-17 21:30:00.000000201</td>\n",
       "      <td>12.1</td>\n",
       "      <td>2011-06-17 21:30:00 UTC</td>\n",
       "      <td>2072.113262</td>\n",
       "      <td>-2573.686443</td>\n",
       "      <td>1182.895748</td>\n",
       "      <td>-1390.934280</td>\n",
       "      <td>1</td>\n",
       "    </tr>\n",
       "    <tr>\n",
       "      <th>3102900</th>\n",
       "      <td>2012-03-01 22:56:00.000000183</td>\n",
       "      <td>8.1</td>\n",
       "      <td>2012-03-01 22:56:00 UTC</td>\n",
       "      <td>374.828325</td>\n",
       "      <td>-2503.765460</td>\n",
       "      <td>755.112072</td>\n",
       "      <td>-3271.296725</td>\n",
       "      <td>1</td>\n",
       "    </tr>\n",
       "    <tr>\n",
       "      <th>3501205</th>\n",
       "      <td>2012-01-15 00:43:00.000000248</td>\n",
       "      <td>4.5</td>\n",
       "      <td>2012-01-15 00:43:00 UTC</td>\n",
       "      <td>2857.839645</td>\n",
       "      <td>-2103.946843</td>\n",
       "      <td>-3412.653087</td>\n",
       "      <td>-1753.034575</td>\n",
       "      <td>1</td>\n",
       "    </tr>\n",
       "    <tr>\n",
       "      <th>4428674</th>\n",
       "      <td>2012-01-28 18:40:00.000000180</td>\n",
       "      <td>9.7</td>\n",
       "      <td>2012-01-28 18:40:00 UTC</td>\n",
       "      <td>2449.577505</td>\n",
       "      <td>-2164.047885</td>\n",
       "      <td>2449.577505</td>\n",
       "      <td>-2164.047885</td>\n",
       "      <td>1</td>\n",
       "    </tr>\n",
       "  </tbody>\n",
       "</table>\n",
       "</div>"
      ],
      "text/plain": [
       "                                   key  fare_amount          pickup_datetime  \\\n",
       "1340837  2011-06-09 10:39:00.000000137         10.1  2011-06-09 10:39:00 UTC   \n",
       "2612104   2011-09-10 09:35:00.00000085          4.5  2011-09-10 09:35:00 UTC   \n",
       "2862434  2011-06-18 02:46:00.000000125          6.5  2011-06-18 02:46:00 UTC   \n",
       "2982842  2012-03-09 17:45:00.000000225          5.7  2012-03-09 17:45:00 UTC   \n",
       "2983841   2011-07-29 12:02:00.00000093          5.7  2011-07-29 12:02:00 UTC   \n",
       "3044791  2011-06-17 21:30:00.000000201         12.1  2011-06-17 21:30:00 UTC   \n",
       "3102900  2012-03-01 22:56:00.000000183          8.1  2012-03-01 22:56:00 UTC   \n",
       "3501205  2012-01-15 00:43:00.000000248          4.5  2012-01-15 00:43:00 UTC   \n",
       "4428674  2012-01-28 18:40:00.000000180          9.7  2012-01-28 18:40:00 UTC   \n",
       "\n",
       "         pickup_longitude  pickup_latitude  dropoff_longitude  \\\n",
       "1340837       2434.238557     -3458.664702       -1281.933787   \n",
       "2612104        408.352392     -3488.079513         408.352392   \n",
       "2862434        976.004115     -3258.765613        2072.104928   \n",
       "2982842       2128.011715      -451.375667        2128.011715   \n",
       "2983841       2130.812885     -1765.599020        3411.463838   \n",
       "3044791       2072.113262     -2573.686443        1182.895748   \n",
       "3102900        374.828325     -2503.765460         755.112072   \n",
       "3501205       2857.839645     -2103.946843       -3412.653087   \n",
       "4428674       2449.577505     -2164.047885        2449.577505   \n",
       "\n",
       "         dropoff_latitude  passenger_count  \n",
       "1340837       -104.637653                1  \n",
       "2612104      -3488.079513                1  \n",
       "2862434       -834.462250                1  \n",
       "2982842       -451.375667                1  \n",
       "2983841        -78.089012                1  \n",
       "3044791      -1390.934280                1  \n",
       "3102900      -3271.296725                1  \n",
       "3501205      -1753.034575                1  \n",
       "4428674      -2164.047885                1  "
      ]
     },
     "execution_count": 26,
     "metadata": {},
     "output_type": "execute_result"
    }
   ],
   "source": [
    "train[train['pickup_longitude']>180]"
   ]
  },
  {
   "cell_type": "code",
   "execution_count": 27,
   "metadata": {},
   "outputs": [],
   "source": [
    "train = train[(train['pickup_longitude']>-180) | (train['pickup_longitude']<180)]"
   ]
  },
  {
   "cell_type": "code",
   "execution_count": 28,
   "metadata": {},
   "outputs": [
    {
     "data": {
      "text/plain": [
       "(26, 8)"
      ]
     },
     "execution_count": 28,
     "metadata": {},
     "output_type": "execute_result"
    }
   ],
   "source": [
    "train.shape\n"
   ]
  },
  {
   "cell_type": "code",
   "execution_count": 29,
   "metadata": {},
   "outputs": [
    {
     "data": {
      "text/html": [
       "<div>\n",
       "<style scoped>\n",
       "    .dataframe tbody tr th:only-of-type {\n",
       "        vertical-align: middle;\n",
       "    }\n",
       "\n",
       "    .dataframe tbody tr th {\n",
       "        vertical-align: top;\n",
       "    }\n",
       "\n",
       "    .dataframe thead th {\n",
       "        text-align: right;\n",
       "    }\n",
       "</style>\n",
       "<table border=\"1\" class=\"dataframe\">\n",
       "  <thead>\n",
       "    <tr style=\"text-align: right;\">\n",
       "      <th></th>\n",
       "      <th>key</th>\n",
       "      <th>fare_amount</th>\n",
       "      <th>pickup_datetime</th>\n",
       "      <th>pickup_longitude</th>\n",
       "      <th>pickup_latitude</th>\n",
       "      <th>dropoff_longitude</th>\n",
       "      <th>dropoff_latitude</th>\n",
       "      <th>passenger_count</th>\n",
       "    </tr>\n",
       "  </thead>\n",
       "  <tbody>\n",
       "    <tr>\n",
       "      <th>436233</th>\n",
       "      <td>2012-03-11 01:56:00.000000100</td>\n",
       "      <td>4.1</td>\n",
       "      <td>2012-03-11 01:56:00 UTC</td>\n",
       "      <td>-2986.242495</td>\n",
       "      <td>-880.627428</td>\n",
       "      <td>-3383.296608</td>\n",
       "      <td>-2559.748913</td>\n",
       "      <td>1</td>\n",
       "    </tr>\n",
       "    <tr>\n",
       "      <th>1281413</th>\n",
       "      <td>2011-09-02 22:51:00.000000213</td>\n",
       "      <td>11.3</td>\n",
       "      <td>2011-09-02 22:51:00 UTC</td>\n",
       "      <td>-2256.421232</td>\n",
       "      <td>-1185.391185</td>\n",
       "      <td>-2256.421232</td>\n",
       "      <td>-1185.391185</td>\n",
       "      <td>1</td>\n",
       "    </tr>\n",
       "    <tr>\n",
       "      <th>1340837</th>\n",
       "      <td>2011-06-09 10:39:00.000000137</td>\n",
       "      <td>10.1</td>\n",
       "      <td>2011-06-09 10:39:00 UTC</td>\n",
       "      <td>2434.238557</td>\n",
       "      <td>-3458.664702</td>\n",
       "      <td>-1281.933787</td>\n",
       "      <td>-104.637653</td>\n",
       "      <td>1</td>\n",
       "    </tr>\n",
       "    <tr>\n",
       "      <th>1606685</th>\n",
       "      <td>2011-07-05 17:10:00.00000063</td>\n",
       "      <td>4.9</td>\n",
       "      <td>2011-07-05 17:10:00 UTC</td>\n",
       "      <td>-1329.480383</td>\n",
       "      <td>-764.564600</td>\n",
       "      <td>3382.125693</td>\n",
       "      <td>-1160.217295</td>\n",
       "      <td>1</td>\n",
       "    </tr>\n",
       "    <tr>\n",
       "      <th>1781778</th>\n",
       "      <td>2011-10-13 07:10:00.00000014</td>\n",
       "      <td>6.5</td>\n",
       "      <td>2011-10-13 07:10:00 UTC</td>\n",
       "      <td>-1659.514697</td>\n",
       "      <td>-821.904472</td>\n",
       "      <td>-1659.514697</td>\n",
       "      <td>-821.904472</td>\n",
       "      <td>1</td>\n",
       "    </tr>\n",
       "    <tr>\n",
       "      <th>2035826</th>\n",
       "      <td>2012-01-11 23:48:00.000000139</td>\n",
       "      <td>6.1</td>\n",
       "      <td>2012-01-11 23:48:00 UTC</td>\n",
       "      <td>-3313.387292</td>\n",
       "      <td>-812.119530</td>\n",
       "      <td>-567.531472</td>\n",
       "      <td>-2545.761383</td>\n",
       "      <td>1</td>\n",
       "    </tr>\n",
       "    <tr>\n",
       "      <th>2612104</th>\n",
       "      <td>2011-09-10 09:35:00.00000085</td>\n",
       "      <td>4.5</td>\n",
       "      <td>2011-09-10 09:35:00 UTC</td>\n",
       "      <td>408.352392</td>\n",
       "      <td>-3488.079513</td>\n",
       "      <td>408.352392</td>\n",
       "      <td>-3488.079513</td>\n",
       "      <td>1</td>\n",
       "    </tr>\n",
       "    <tr>\n",
       "      <th>2862434</th>\n",
       "      <td>2011-06-18 02:46:00.000000125</td>\n",
       "      <td>6.5</td>\n",
       "      <td>2011-06-18 02:46:00 UTC</td>\n",
       "      <td>976.004115</td>\n",
       "      <td>-3258.765613</td>\n",
       "      <td>2072.104928</td>\n",
       "      <td>-834.462250</td>\n",
       "      <td>1</td>\n",
       "    </tr>\n",
       "    <tr>\n",
       "      <th>2921745</th>\n",
       "      <td>2011-10-06 09:59:00.00000070</td>\n",
       "      <td>10.5</td>\n",
       "      <td>2011-10-06 09:59:00 UTC</td>\n",
       "      <td>-1351.868103</td>\n",
       "      <td>-772.946457</td>\n",
       "      <td>3457.622350</td>\n",
       "      <td>-2087.151477</td>\n",
       "      <td>1</td>\n",
       "    </tr>\n",
       "    <tr>\n",
       "      <th>2982842</th>\n",
       "      <td>2012-03-09 17:45:00.000000225</td>\n",
       "      <td>5.7</td>\n",
       "      <td>2012-03-09 17:45:00 UTC</td>\n",
       "      <td>2128.011715</td>\n",
       "      <td>-451.375667</td>\n",
       "      <td>2128.011715</td>\n",
       "      <td>-451.375667</td>\n",
       "      <td>1</td>\n",
       "    </tr>\n",
       "    <tr>\n",
       "      <th>3044791</th>\n",
       "      <td>2011-06-17 21:30:00.000000201</td>\n",
       "      <td>12.1</td>\n",
       "      <td>2011-06-17 21:30:00 UTC</td>\n",
       "      <td>2072.113262</td>\n",
       "      <td>-2573.686443</td>\n",
       "      <td>1182.895748</td>\n",
       "      <td>-1390.934280</td>\n",
       "      <td>1</td>\n",
       "    </tr>\n",
       "    <tr>\n",
       "      <th>3102900</th>\n",
       "      <td>2012-03-01 22:56:00.000000183</td>\n",
       "      <td>8.1</td>\n",
       "      <td>2012-03-01 22:56:00 UTC</td>\n",
       "      <td>374.828325</td>\n",
       "      <td>-2503.765460</td>\n",
       "      <td>755.112072</td>\n",
       "      <td>-3271.296725</td>\n",
       "      <td>1</td>\n",
       "    </tr>\n",
       "    <tr>\n",
       "      <th>3263161</th>\n",
       "      <td>2012-03-06 11:39:00.00000037</td>\n",
       "      <td>10.5</td>\n",
       "      <td>2012-03-06 11:39:00 UTC</td>\n",
       "      <td>-3348.349457</td>\n",
       "      <td>-2092.738817</td>\n",
       "      <td>-3348.349457</td>\n",
       "      <td>-2092.738817</td>\n",
       "      <td>1</td>\n",
       "    </tr>\n",
       "    <tr>\n",
       "      <th>3501205</th>\n",
       "      <td>2012-01-15 00:43:00.000000248</td>\n",
       "      <td>4.5</td>\n",
       "      <td>2012-01-15 00:43:00 UTC</td>\n",
       "      <td>2857.839645</td>\n",
       "      <td>-2103.946843</td>\n",
       "      <td>-3412.653087</td>\n",
       "      <td>-1753.034575</td>\n",
       "      <td>1</td>\n",
       "    </tr>\n",
       "    <tr>\n",
       "      <th>4127802</th>\n",
       "      <td>2011-11-16 11:15:00.00000051</td>\n",
       "      <td>6.9</td>\n",
       "      <td>2011-11-16 11:15:00 UTC</td>\n",
       "      <td>-13.887278</td>\n",
       "      <td>-2105.344928</td>\n",
       "      <td>3063.346073</td>\n",
       "      <td>-501.733433</td>\n",
       "      <td>1</td>\n",
       "    </tr>\n",
       "    <tr>\n",
       "      <th>4167774</th>\n",
       "      <td>2011-05-25 10:02:00.000000154</td>\n",
       "      <td>20.9</td>\n",
       "      <td>2011-05-25 10:02:00 UTC</td>\n",
       "      <td>-2404.643242</td>\n",
       "      <td>-110.283327</td>\n",
       "      <td>-1251.175890</td>\n",
       "      <td>-810.681445</td>\n",
       "      <td>1</td>\n",
       "    </tr>\n",
       "    <tr>\n",
       "      <th>4428674</th>\n",
       "      <td>2012-01-28 18:40:00.000000180</td>\n",
       "      <td>9.7</td>\n",
       "      <td>2012-01-28 18:40:00 UTC</td>\n",
       "      <td>2449.577505</td>\n",
       "      <td>-2164.047885</td>\n",
       "      <td>2449.577505</td>\n",
       "      <td>-2164.047885</td>\n",
       "      <td>1</td>\n",
       "    </tr>\n",
       "    <tr>\n",
       "      <th>4584823</th>\n",
       "      <td>2011-12-16 23:15:00.000000215</td>\n",
       "      <td>4.1</td>\n",
       "      <td>2011-12-16 23:15:00 UTC</td>\n",
       "      <td>-324.328375</td>\n",
       "      <td>-452.805418</td>\n",
       "      <td>-324.328375</td>\n",
       "      <td>-452.805418</td>\n",
       "      <td>1</td>\n",
       "    </tr>\n",
       "  </tbody>\n",
       "</table>\n",
       "</div>"
      ],
      "text/plain": [
       "                                   key  fare_amount          pickup_datetime  \\\n",
       "436233   2012-03-11 01:56:00.000000100          4.1  2012-03-11 01:56:00 UTC   \n",
       "1281413  2011-09-02 22:51:00.000000213         11.3  2011-09-02 22:51:00 UTC   \n",
       "1340837  2011-06-09 10:39:00.000000137         10.1  2011-06-09 10:39:00 UTC   \n",
       "1606685   2011-07-05 17:10:00.00000063          4.9  2011-07-05 17:10:00 UTC   \n",
       "1781778   2011-10-13 07:10:00.00000014          6.5  2011-10-13 07:10:00 UTC   \n",
       "2035826  2012-01-11 23:48:00.000000139          6.1  2012-01-11 23:48:00 UTC   \n",
       "2612104   2011-09-10 09:35:00.00000085          4.5  2011-09-10 09:35:00 UTC   \n",
       "2862434  2011-06-18 02:46:00.000000125          6.5  2011-06-18 02:46:00 UTC   \n",
       "2921745   2011-10-06 09:59:00.00000070         10.5  2011-10-06 09:59:00 UTC   \n",
       "2982842  2012-03-09 17:45:00.000000225          5.7  2012-03-09 17:45:00 UTC   \n",
       "3044791  2011-06-17 21:30:00.000000201         12.1  2011-06-17 21:30:00 UTC   \n",
       "3102900  2012-03-01 22:56:00.000000183          8.1  2012-03-01 22:56:00 UTC   \n",
       "3263161   2012-03-06 11:39:00.00000037         10.5  2012-03-06 11:39:00 UTC   \n",
       "3501205  2012-01-15 00:43:00.000000248          4.5  2012-01-15 00:43:00 UTC   \n",
       "4127802   2011-11-16 11:15:00.00000051          6.9  2011-11-16 11:15:00 UTC   \n",
       "4167774  2011-05-25 10:02:00.000000154         20.9  2011-05-25 10:02:00 UTC   \n",
       "4428674  2012-01-28 18:40:00.000000180          9.7  2012-01-28 18:40:00 UTC   \n",
       "4584823  2011-12-16 23:15:00.000000215          4.1  2011-12-16 23:15:00 UTC   \n",
       "\n",
       "         pickup_longitude  pickup_latitude  dropoff_longitude  \\\n",
       "436233       -2986.242495      -880.627428       -3383.296608   \n",
       "1281413      -2256.421232     -1185.391185       -2256.421232   \n",
       "1340837       2434.238557     -3458.664702       -1281.933787   \n",
       "1606685      -1329.480383      -764.564600        3382.125693   \n",
       "1781778      -1659.514697      -821.904472       -1659.514697   \n",
       "2035826      -3313.387292      -812.119530        -567.531472   \n",
       "2612104        408.352392     -3488.079513         408.352392   \n",
       "2862434        976.004115     -3258.765613        2072.104928   \n",
       "2921745      -1351.868103      -772.946457        3457.622350   \n",
       "2982842       2128.011715      -451.375667        2128.011715   \n",
       "3044791       2072.113262     -2573.686443        1182.895748   \n",
       "3102900        374.828325     -2503.765460         755.112072   \n",
       "3263161      -3348.349457     -2092.738817       -3348.349457   \n",
       "3501205       2857.839645     -2103.946843       -3412.653087   \n",
       "4127802        -13.887278     -2105.344928        3063.346073   \n",
       "4167774      -2404.643242      -110.283327       -1251.175890   \n",
       "4428674       2449.577505     -2164.047885        2449.577505   \n",
       "4584823       -324.328375      -452.805418        -324.328375   \n",
       "\n",
       "         dropoff_latitude  passenger_count  \n",
       "436233       -2559.748913                1  \n",
       "1281413      -1185.391185                1  \n",
       "1340837       -104.637653                1  \n",
       "1606685      -1160.217295                1  \n",
       "1781778       -821.904472                1  \n",
       "2035826      -2545.761383                1  \n",
       "2612104      -3488.079513                1  \n",
       "2862434       -834.462250                1  \n",
       "2921745      -2087.151477                1  \n",
       "2982842       -451.375667                1  \n",
       "3044791      -1390.934280                1  \n",
       "3102900      -3271.296725                1  \n",
       "3263161      -2092.738817                1  \n",
       "3501205      -1753.034575                1  \n",
       "4127802       -501.733433                1  \n",
       "4167774       -810.681445                1  \n",
       "4428674      -2164.047885                1  \n",
       "4584823       -452.805418                1  "
      ]
     },
     "execution_count": 29,
     "metadata": {},
     "output_type": "execute_result"
    }
   ],
   "source": [
    "train[train['dropoff_latitude']<-90]\n"
   ]
  },
  {
   "cell_type": "code",
   "execution_count": 30,
   "metadata": {},
   "outputs": [
    {
     "data": {
      "text/html": [
       "<div>\n",
       "<style scoped>\n",
       "    .dataframe tbody tr th:only-of-type {\n",
       "        vertical-align: middle;\n",
       "    }\n",
       "\n",
       "    .dataframe tbody tr th {\n",
       "        vertical-align: top;\n",
       "    }\n",
       "\n",
       "    .dataframe thead th {\n",
       "        text-align: right;\n",
       "    }\n",
       "</style>\n",
       "<table border=\"1\" class=\"dataframe\">\n",
       "  <thead>\n",
       "    <tr style=\"text-align: right;\">\n",
       "      <th></th>\n",
       "      <th>key</th>\n",
       "      <th>fare_amount</th>\n",
       "      <th>pickup_datetime</th>\n",
       "      <th>pickup_longitude</th>\n",
       "      <th>pickup_latitude</th>\n",
       "      <th>dropoff_longitude</th>\n",
       "      <th>dropoff_latitude</th>\n",
       "      <th>passenger_count</th>\n",
       "    </tr>\n",
       "  </thead>\n",
       "  <tbody>\n",
       "    <tr>\n",
       "      <th>543001</th>\n",
       "      <td>2011-10-28 13:53:00.000000178</td>\n",
       "      <td>5.3</td>\n",
       "      <td>2011-10-28 13:53:00 UTC</td>\n",
       "      <td>-3377.680935</td>\n",
       "      <td>-113.019497</td>\n",
       "      <td>-554.918693</td>\n",
       "      <td>314.794180</td>\n",
       "      <td>1</td>\n",
       "    </tr>\n",
       "    <tr>\n",
       "      <th>1388984</th>\n",
       "      <td>2012-01-18 21:33:00.00000068</td>\n",
       "      <td>11.3</td>\n",
       "      <td>2012-01-18 21:33:00 UTC</td>\n",
       "      <td>-1649.643088</td>\n",
       "      <td>-849.829532</td>\n",
       "      <td>2842.474030</td>\n",
       "      <td>3345.917353</td>\n",
       "      <td>1</td>\n",
       "    </tr>\n",
       "    <tr>\n",
       "      <th>3229948</th>\n",
       "      <td>2012-02-22 13:09:00.00000086</td>\n",
       "      <td>6.5</td>\n",
       "      <td>2012-02-22 13:09:00 UTC</td>\n",
       "      <td>-2975.047802</td>\n",
       "      <td>-1757.195497</td>\n",
       "      <td>2497.105768</td>\n",
       "      <td>2589.499115</td>\n",
       "      <td>1</td>\n",
       "    </tr>\n",
       "  </tbody>\n",
       "</table>\n",
       "</div>"
      ],
      "text/plain": [
       "                                   key  fare_amount          pickup_datetime  \\\n",
       "543001   2011-10-28 13:53:00.000000178          5.3  2011-10-28 13:53:00 UTC   \n",
       "1388984   2012-01-18 21:33:00.00000068         11.3  2012-01-18 21:33:00 UTC   \n",
       "3229948   2012-02-22 13:09:00.00000086          6.5  2012-02-22 13:09:00 UTC   \n",
       "\n",
       "         pickup_longitude  pickup_latitude  dropoff_longitude  \\\n",
       "543001       -3377.680935      -113.019497        -554.918693   \n",
       "1388984      -1649.643088      -849.829532        2842.474030   \n",
       "3229948      -2975.047802     -1757.195497        2497.105768   \n",
       "\n",
       "         dropoff_latitude  passenger_count  \n",
       "543001         314.794180                1  \n",
       "1388984       3345.917353                1  \n",
       "3229948       2589.499115                1  "
      ]
     },
     "execution_count": 30,
     "metadata": {},
     "output_type": "execute_result"
    }
   ],
   "source": [
    "train[train['dropoff_latitude']>90]\n"
   ]
  },
  {
   "cell_type": "code",
   "execution_count": 31,
   "metadata": {},
   "outputs": [],
   "source": [
    "train = train[(train['dropoff_latitude']>-90) &(train['dropoff_latitude']<90)]"
   ]
  },
  {
   "cell_type": "code",
   "execution_count": 32,
   "metadata": {},
   "outputs": [
    {
     "data": {
      "text/html": [
       "<div>\n",
       "<style scoped>\n",
       "    .dataframe tbody tr th:only-of-type {\n",
       "        vertical-align: middle;\n",
       "    }\n",
       "\n",
       "    .dataframe tbody tr th {\n",
       "        vertical-align: top;\n",
       "    }\n",
       "\n",
       "    .dataframe thead th {\n",
       "        text-align: right;\n",
       "    }\n",
       "</style>\n",
       "<table border=\"1\" class=\"dataframe\">\n",
       "  <thead>\n",
       "    <tr style=\"text-align: right;\">\n",
       "      <th></th>\n",
       "      <th>key</th>\n",
       "      <th>fare_amount</th>\n",
       "      <th>pickup_datetime</th>\n",
       "      <th>pickup_longitude</th>\n",
       "      <th>pickup_latitude</th>\n",
       "      <th>dropoff_longitude</th>\n",
       "      <th>dropoff_latitude</th>\n",
       "      <th>passenger_count</th>\n",
       "    </tr>\n",
       "  </thead>\n",
       "  <tbody>\n",
       "  </tbody>\n",
       "</table>\n",
       "</div>"
      ],
      "text/plain": [
       "Empty DataFrame\n",
       "Columns: [key, fare_amount, pickup_datetime, pickup_longitude, pickup_latitude, dropoff_longitude, dropoff_latitude, passenger_count]\n",
       "Index: []"
      ]
     },
     "execution_count": 32,
     "metadata": {},
     "output_type": "execute_result"
    }
   ],
   "source": [
    "train[train['dropoff_latitude']<-180]|train[train['dropoff_latitude']>180]"
   ]
  },
  {
   "cell_type": "code",
   "execution_count": 33,
   "metadata": {},
   "outputs": [
    {
     "data": {
      "text/plain": [
       "key                   object\n",
       "fare_amount          float64\n",
       "pickup_datetime       object\n",
       "pickup_longitude     float64\n",
       "pickup_latitude      float64\n",
       "dropoff_longitude    float64\n",
       "dropoff_latitude     float64\n",
       "passenger_count        int64\n",
       "dtype: object"
      ]
     },
     "execution_count": 33,
     "metadata": {},
     "output_type": "execute_result"
    }
   ],
   "source": [
    "train.dtypes"
   ]
  },
  {
   "cell_type": "markdown",
   "metadata": {},
   "source": [
    "#### key and pickup_datetime seem to be datetime columns which are in object format. Let's convert them to datetime\n",
    "\n"
   ]
  },
  {
   "cell_type": "code",
   "execution_count": 34,
   "metadata": {},
   "outputs": [],
   "source": [
    "train['key'] = pd.to_datetime(train['key'])\n",
    "train['pickup_datetime']  = pd.to_datetime(train['pickup_datetime'])"
   ]
  },
  {
   "cell_type": "code",
   "execution_count": 35,
   "metadata": {},
   "outputs": [],
   "source": [
    "#Convert for test data\n",
    "test['key'] = pd.to_datetime(test['key'])\n",
    "test['pickup_datetime']  = pd.to_datetime(test['pickup_datetime'])"
   ]
  },
  {
   "cell_type": "code",
   "execution_count": 36,
   "metadata": {},
   "outputs": [
    {
     "data": {
      "text/plain": [
       "key                       datetime64[ns]\n",
       "fare_amount                      float64\n",
       "pickup_datetime      datetime64[ns, UTC]\n",
       "pickup_longitude                 float64\n",
       "pickup_latitude                  float64\n",
       "dropoff_longitude                float64\n",
       "dropoff_latitude                 float64\n",
       "passenger_count                    int64\n",
       "dtype: object"
      ]
     },
     "execution_count": 36,
     "metadata": {},
     "output_type": "execute_result"
    }
   ],
   "source": [
    "train.dtypes"
   ]
  },
  {
   "cell_type": "markdown",
   "metadata": {},
   "source": [
    "\n",
    "### Now, for EDA. The following are my considerations -\n",
    "\n",
    "Does the number of passengers affect the fare?\n",
    "Does the date and time of pickup affect the fare?\n",
    "Does the day of the week affect the fare?\n",
    "Does the distance travelled affect the fare?\n",
    "First, let's split the datetime field 'pickup_datetime' to the following -\n",
    "\n",
    "year\n",
    "month\n",
    "date\n",
    "hour\n",
    "day of week\n",
    "Using these we shall calculate the day of the week and come to our conclusions about how pickup_location affects the fare. Also, create a new field 'distance' to fetch the distance between the pickup and the drop.\n",
    "\n",
    "We can calulate the distance in a sphere when latitudes and longitudes are given by Haversine formula\n",
    "\n",
    "haversine(θ) = sin²(θ/2)\n",
    "\n",
    "Eventually, the formual boils down to the following where φ is latitude, λ is longitude, R is earth’s radius (mean radius = 6,371km) to include latitude and longitude coordinates (A and B in this case).\n",
    "\n",
    "a = sin²((φB - φA)/2) + cos φA . cos φB . sin²((λB - λA)/2)\n",
    "\n",
    "c = 2 * atan2( √a, √(1−a) )\n",
    "\n",
    "d = R ⋅ c"
   ]
  },
  {
   "cell_type": "code",
   "execution_count": 37,
   "metadata": {},
   "outputs": [],
   "source": [
    "def haversine_distance(lat1, long1, lat2, long2):\n",
    "    data = [train, test]\n",
    "    for i in data:\n",
    "        R = 6371  #radius of earth in kilometers\n",
    "        #R = 3959 #radius of earth in miles\n",
    "        phi1 = np.radians(i[lat1])\n",
    "        phi2 = np.radians(i[lat2])\n",
    "    \n",
    "        delta_phi = np.radians(i[lat2]-i[lat1])\n",
    "        delta_lambda = np.radians(i[long2]-i[long1])\n",
    "    \n",
    "        #a = sin²((φB - φA)/2) + cos φA . cos φB . sin²((λB - λA)/2)\n",
    "        a = np.sin(delta_phi / 2.0) ** 2 + np.cos(phi1) * np.cos(phi2) * np.sin(delta_lambda / 2.0) ** 2\n",
    "    \n",
    "        #c = 2 * atan2( √a, √(1−a) )\n",
    "        c = 2 * np.arctan2(np.sqrt(a), np.sqrt(1-a))\n",
    "    \n",
    "        #d = R*c\n",
    "        d = (R * c) #in kilometers\n",
    "        i['H_Distance'] = d\n",
    "    return d"
   ]
  },
  {
   "cell_type": "code",
   "execution_count": 38,
   "metadata": {},
   "outputs": [
    {
     "data": {
      "text/plain": [
       "0        2.323260\n",
       "1        2.425353\n",
       "2        0.618628\n",
       "3        1.961033\n",
       "4        5.387301\n",
       "          ...    \n",
       "9909     2.124874\n",
       "9910     3.270969\n",
       "9911    19.183941\n",
       "9912     8.343486\n",
       "9913     1.180825\n",
       "Length: 9914, dtype: float64"
      ]
     },
     "execution_count": 38,
     "metadata": {},
     "output_type": "execute_result"
    }
   ],
   "source": [
    "haversine_distance('pickup_latitude', 'pickup_longitude', 'dropoff_latitude', 'dropoff_longitude')"
   ]
  },
  {
   "cell_type": "code",
   "execution_count": 39,
   "metadata": {},
   "outputs": [
    {
     "data": {
      "text/plain": [
       "150559      7195.230186\n",
       "2037003     9139.500576\n",
       "2983841    15057.093688\n",
       "4214024     4105.230789\n",
       "4988718     8338.837257\n",
       "Name: H_Distance, dtype: float64"
      ]
     },
     "execution_count": 39,
     "metadata": {},
     "output_type": "execute_result"
    }
   ],
   "source": [
    "train['H_Distance'].head(10)\n"
   ]
  },
  {
   "cell_type": "code",
   "execution_count": 40,
   "metadata": {},
   "outputs": [
    {
     "data": {
      "text/html": [
       "<div>\n",
       "<style scoped>\n",
       "    .dataframe tbody tr th:only-of-type {\n",
       "        vertical-align: middle;\n",
       "    }\n",
       "\n",
       "    .dataframe tbody tr th {\n",
       "        vertical-align: top;\n",
       "    }\n",
       "\n",
       "    .dataframe thead th {\n",
       "        text-align: right;\n",
       "    }\n",
       "</style>\n",
       "<table border=\"1\" class=\"dataframe\">\n",
       "  <thead>\n",
       "    <tr style=\"text-align: right;\">\n",
       "      <th></th>\n",
       "      <th>key</th>\n",
       "      <th>fare_amount</th>\n",
       "      <th>pickup_datetime</th>\n",
       "      <th>pickup_longitude</th>\n",
       "      <th>pickup_latitude</th>\n",
       "      <th>dropoff_longitude</th>\n",
       "      <th>dropoff_latitude</th>\n",
       "      <th>passenger_count</th>\n",
       "      <th>H_Distance</th>\n",
       "    </tr>\n",
       "  </thead>\n",
       "  <tbody>\n",
       "    <tr>\n",
       "      <th>150559</th>\n",
       "      <td>2012-08-03 07:43:00.000000176</td>\n",
       "      <td>25.3</td>\n",
       "      <td>2012-08-03 07:43:00+00:00</td>\n",
       "      <td>0.000000</td>\n",
       "      <td>-3116.285383</td>\n",
       "      <td>-73.953600</td>\n",
       "      <td>40.787998</td>\n",
       "      <td>1</td>\n",
       "      <td>7195.230186</td>\n",
       "    </tr>\n",
       "    <tr>\n",
       "      <th>2037003</th>\n",
       "      <td>2011-05-22 17:08:00.000000163</td>\n",
       "      <td>7.3</td>\n",
       "      <td>2011-05-22 17:08:00+00:00</td>\n",
       "      <td>-2995.982437</td>\n",
       "      <td>-2847.702303</td>\n",
       "      <td>-1265.146753</td>\n",
       "      <td>-16.566552</td>\n",
       "      <td>1</td>\n",
       "      <td>9139.500576</td>\n",
       "    </tr>\n",
       "    <tr>\n",
       "      <th>2983841</th>\n",
       "      <td>2011-07-29 12:02:00.000000930</td>\n",
       "      <td>5.7</td>\n",
       "      <td>2011-07-29 12:02:00+00:00</td>\n",
       "      <td>2130.812885</td>\n",
       "      <td>-1765.599020</td>\n",
       "      <td>3411.463838</td>\n",
       "      <td>-78.089012</td>\n",
       "      <td>1</td>\n",
       "      <td>15057.093688</td>\n",
       "    </tr>\n",
       "    <tr>\n",
       "      <th>4214024</th>\n",
       "      <td>2012-01-13 11:07:00.000000139</td>\n",
       "      <td>22.9</td>\n",
       "      <td>2012-01-13 11:07:00+00:00</td>\n",
       "      <td>-915.660903</td>\n",
       "      <td>-823.300890</td>\n",
       "      <td>2820.124643</td>\n",
       "      <td>-44.476612</td>\n",
       "      <td>1</td>\n",
       "      <td>4105.230789</td>\n",
       "    </tr>\n",
       "    <tr>\n",
       "      <th>4988718</th>\n",
       "      <td>2011-07-11 19:26:00.000000230</td>\n",
       "      <td>7.3</td>\n",
       "      <td>2011-07-11 19:26:00+00:00</td>\n",
       "      <td>-0.108333</td>\n",
       "      <td>-2875.666330</td>\n",
       "      <td>-74.001840</td>\n",
       "      <td>40.728355</td>\n",
       "      <td>2</td>\n",
       "      <td>8338.837257</td>\n",
       "    </tr>\n",
       "  </tbody>\n",
       "</table>\n",
       "</div>"
      ],
      "text/plain": [
       "                                  key  fare_amount           pickup_datetime  \\\n",
       "150559  2012-08-03 07:43:00.000000176         25.3 2012-08-03 07:43:00+00:00   \n",
       "2037003 2011-05-22 17:08:00.000000163          7.3 2011-05-22 17:08:00+00:00   \n",
       "2983841 2011-07-29 12:02:00.000000930          5.7 2011-07-29 12:02:00+00:00   \n",
       "4214024 2012-01-13 11:07:00.000000139         22.9 2012-01-13 11:07:00+00:00   \n",
       "4988718 2011-07-11 19:26:00.000000230          7.3 2011-07-11 19:26:00+00:00   \n",
       "\n",
       "         pickup_longitude  pickup_latitude  dropoff_longitude  \\\n",
       "150559           0.000000     -3116.285383         -73.953600   \n",
       "2037003      -2995.982437     -2847.702303       -1265.146753   \n",
       "2983841       2130.812885     -1765.599020        3411.463838   \n",
       "4214024       -915.660903      -823.300890        2820.124643   \n",
       "4988718         -0.108333     -2875.666330         -74.001840   \n",
       "\n",
       "         dropoff_latitude  passenger_count    H_Distance  \n",
       "150559          40.787998                1   7195.230186  \n",
       "2037003        -16.566552                1   9139.500576  \n",
       "2983841        -78.089012                1  15057.093688  \n",
       "4214024        -44.476612                1   4105.230789  \n",
       "4988718         40.728355                2   8338.837257  "
      ]
     },
     "execution_count": 40,
     "metadata": {},
     "output_type": "execute_result"
    }
   ],
   "source": [
    "train.head()"
   ]
  },
  {
   "cell_type": "code",
   "execution_count": 41,
   "metadata": {},
   "outputs": [
    {
     "data": {
      "text/plain": [
       "0     2.323260\n",
       "1     2.425353\n",
       "2     0.618628\n",
       "3     1.961033\n",
       "4     5.387301\n",
       "5     3.222549\n",
       "6     0.929601\n",
       "7    21.540102\n",
       "8     3.873962\n",
       "9     1.099794\n",
       "Name: H_Distance, dtype: float64"
      ]
     },
     "execution_count": 41,
     "metadata": {},
     "output_type": "execute_result"
    }
   ],
   "source": [
    "test['H_Distance'].head(10)\n"
   ]
  },
  {
   "cell_type": "markdown",
   "metadata": {},
   "source": [
    "### Now that we have calculated the distance, we shall create columns for the following -\n",
    "\n",
    "year\n",
    "month\n",
    "date\n",
    "hour\n",
    "day of week"
   ]
  },
  {
   "cell_type": "code",
   "execution_count": 42,
   "metadata": {},
   "outputs": [],
   "source": [
    "data = [train,test]\n",
    "for i in data:\n",
    "    i['Year'] = i['pickup_datetime'].dt.year\n",
    "    i['Month'] = i['pickup_datetime'].dt.month\n",
    "    i['Date'] = i['pickup_datetime'].dt.day\n",
    "    i['Day of Week'] = i['pickup_datetime'].dt.dayofweek\n",
    "    i['Hour'] = i['pickup_datetime'].dt.hour"
   ]
  },
  {
   "cell_type": "code",
   "execution_count": 43,
   "metadata": {},
   "outputs": [],
   "source": [
    " i['Hour'] = i['pickup_datetime'].dt.hour"
   ]
  },
  {
   "cell_type": "code",
   "execution_count": 44,
   "metadata": {},
   "outputs": [
    {
     "data": {
      "text/plain": [
       "0    13\n",
       "1    13\n",
       "2    11\n",
       "3    21\n",
       "4    21\n",
       "Name: Hour, dtype: int64"
      ]
     },
     "execution_count": 44,
     "metadata": {},
     "output_type": "execute_result"
    }
   ],
   "source": [
    " i['Hour'].head()"
   ]
  },
  {
   "cell_type": "code",
   "execution_count": 45,
   "metadata": {},
   "outputs": [
    {
     "data": {
      "text/plain": [
       "0    1\n",
       "1    1\n",
       "2    5\n",
       "3    5\n",
       "4    5\n",
       "Name: Day of Week, dtype: int64"
      ]
     },
     "execution_count": 45,
     "metadata": {},
     "output_type": "execute_result"
    }
   ],
   "source": [
    " i['Day of Week'].head()"
   ]
  },
  {
   "cell_type": "code",
   "execution_count": 46,
   "metadata": {},
   "outputs": [
    {
     "name": "stdout",
     "output_type": "stream",
     "text": [
      "Object `fare` not found.\n"
     ]
    }
   ],
   "source": [
    "#\n",
    "1. Does the number of passengers affect the fare?"
   ]
  },
  {
   "cell_type": "code",
   "execution_count": 47,
   "metadata": {},
   "outputs": [
    {
     "data": {
      "text/plain": [
       "Text(0, 0.5, 'Frequency')"
      ]
     },
     "execution_count": 47,
     "metadata": {},
     "output_type": "execute_result"
    },
    {
     "data": {
      "image/png": "[encoded data removed]",
      "text/plain": [
       "<Figure size 1080x504 with 1 Axes>"
      ]
     },
     "metadata": {
      "needs_background": "light"
     },
     "output_type": "display_data"
    }
   ],
   "source": [
    "plt.figure(figsize=(15,7))\n",
    "plt.hist(train['passenger_count'], bins=15)\n",
    "plt.xlabel('No. of Passengers')\n",
    "plt.ylabel('Frequency')"
   ]
  },
  {
   "cell_type": "code",
   "execution_count": 48,
   "metadata": {},
   "outputs": [
    {
     "data": {
      "text/plain": [
       "Text(0, 0.5, 'Fare')"
      ]
     },
     "execution_count": 48,
     "metadata": {},
     "output_type": "execute_result"
    },
    {
     "data": {
      "image/png": "[encoded data removed]",
      "text/plain": [
       "<Figure size 1080x504 with 1 Axes>"
      ]
     },
     "metadata": {
      "needs_background": "light"
     },
     "output_type": "display_data"
    }
   ],
   "source": [
    "plt.figure(figsize=(15,7))\n",
    "plt.scatter(x=train['passenger_count'], y=train['fare_amount'], s=1.5)\n",
    "plt.xlabel('No. of Passengers')\n",
    "plt.ylabel('Fare')"
   ]
  },
  {
   "cell_type": "markdown",
   "metadata": {},
   "source": [
    "### From the above 2 graphs we can see that single passengers are the most frequent travellers, and the highest fare also seems to come from cabs which carry just 1 passenger."
   ]
  },
  {
   "cell_type": "code",
   "execution_count": 49,
   "metadata": {},
   "outputs": [],
   "source": [
    "#2. Does the date and time of pickup affect the fare?"
   ]
  },
  {
   "cell_type": "code",
   "execution_count": 50,
   "metadata": {},
   "outputs": [
    {
     "data": {
      "text/plain": [
       "Text(0, 0.5, 'Fare')"
      ]
     },
     "execution_count": 50,
     "metadata": {},
     "output_type": "execute_result"
    },
    {
     "data": {
      "image/png": "[encoded data removed]",
      "text/plain": [
       "<Figure size 1080x504 with 1 Axes>"
      ]
     },
     "metadata": {
      "needs_background": "light"
     },
     "output_type": "display_data"
    }
   ],
   "source": [
    "plt.figure(figsize=(15,7))\n",
    "plt.scatter(x=train['Date'], y=train['fare_amount'], s=1.5)\n",
    "plt.xlabel('Date')\n",
    "plt.ylabel('Fare')\n"
   ]
  },
  {
   "cell_type": "code",
   "execution_count": 51,
   "metadata": {},
   "outputs": [],
   "source": [
    "#The fares throught the month mostly seem uniform, with the maximum fare received on the 12th"
   ]
  },
  {
   "cell_type": "code",
   "execution_count": 52,
   "metadata": {},
   "outputs": [
    {
     "data": {
      "text/plain": [
       "Text(0, 0.5, 'Frequency')"
      ]
     },
     "execution_count": 52,
     "metadata": {},
     "output_type": "execute_result"
    },
    {
     "data": {
      "image/png": "[encoded data removed]",
      "text/plain": [
       "<Figure size 1080x504 with 1 Axes>"
      ]
     },
     "metadata": {
      "needs_background": "light"
     },
     "output_type": "display_data"
    }
   ],
   "source": [
    "plt.figure(figsize=(15,7))\n",
    "plt.hist(train['Hour'], bins=100)\n",
    "plt.xlabel('Hour')\n",
    "plt.ylabel('Frequency')"
   ]
  },
  {
   "cell_type": "markdown",
   "metadata": {},
   "source": [
    "#### Interesting! The time of day definitely plays an important role. The frequency of cab rides seem to be the lowest at 5AM and the highest at 7PM."
   ]
  },
  {
   "cell_type": "code",
   "execution_count": 53,
   "metadata": {},
   "outputs": [
    {
     "data": {
      "text/plain": [
       "Text(0, 0.5, 'Fare')"
      ]
     },
     "execution_count": 53,
     "metadata": {},
     "output_type": "execute_result"
    },
    {
     "data": {
      "image/png": "[encoded data removed]",
      "text/plain": [
       "<Figure size 1080x504 with 1 Axes>"
      ]
     },
     "metadata": {
      "needs_background": "light"
     },
     "output_type": "display_data"
    }
   ],
   "source": [
    "plt.figure(figsize=(15,7))\n",
    "plt.scatter(x=train['Hour'], y=train['fare_amount'], s=1.5)\n",
    "plt.xlabel('Hour')\n",
    "plt.ylabel('Fare')"
   ]
  },
  {
   "cell_type": "markdown",
   "metadata": {},
   "source": [
    "\n",
    "The fares, however, seem to be high betweeb 5AM and 10AM, and 2PM to 4PM. Maybe people who live far away prefer to leave earlier to avoid rush hour traffic?"
   ]
  },
  {
   "cell_type": "code",
   "execution_count": 54,
   "metadata": {},
   "outputs": [],
   "source": [
    "\n",
    "#3. Does the day of the week affect the fare?\n",
    "\n"
   ]
  },
  {
   "cell_type": "code",
   "execution_count": 55,
   "metadata": {},
   "outputs": [
    {
     "data": {
      "text/plain": [
       "Text(0, 0.5, 'Frequency')"
      ]
     },
     "execution_count": 55,
     "metadata": {},
     "output_type": "execute_result"
    },
    {
     "data": {
      "image/png": "[encoded data removed]",
      "text/plain": [
       "<Figure size 1080x504 with 1 Axes>"
      ]
     },
     "metadata": {
      "needs_background": "light"
     },
     "output_type": "display_data"
    }
   ],
   "source": [
    "plt.figure(figsize=(15,7))\n",
    "plt.hist(train['Day of Week'], bins=100)\n",
    "plt.xlabel('Day of Week')\n",
    "plt.ylabel('Frequency')\n"
   ]
  },
  {
   "cell_type": "code",
   "execution_count": 56,
   "metadata": {},
   "outputs": [
    {
     "data": {
      "text/plain": [
       "Text(0, 0.5, 'Fare')"
      ]
     },
     "execution_count": 56,
     "metadata": {},
     "output_type": "execute_result"
    },
    {
     "data": {
      "image/png": "[encoded data removed]",
      "text/plain": [
       "<Figure size 1080x504 with 1 Axes>"
      ]
     },
     "metadata": {
      "needs_background": "light"
     },
     "output_type": "display_data"
    }
   ],
   "source": [
    "plt.figure(figsize=(15,7))\n",
    "plt.scatter(x=train['Day of Week'], y=train['fare_amount'], s=1.5)\n",
    "plt.xlabel('Day of Week')\n",
    "plt.ylabel('Fare')"
   ]
  },
  {
   "cell_type": "markdown",
   "metadata": {},
   "source": [
    "The highest fares seem to be on a Sunday and Monday, and the lowest on Wednesday and Friday. Maybe people travel far distances on Sunday and Monday (visiting family and returning back home), and hence, the high fares. And guess people just want to stay at home on a Friday after a hectic week at work."
   ]
  },
  {
   "cell_type": "markdown",
   "metadata": {},
   "source": [
    "\n",
    "4. Does the distance affect the fare?\n",
    "\n",
    "This is a no-brainer. I am confident that the distance would affect the fare a great deal. But I will visualise it.\n",
    "\n",
    "Firstly, let's check the frequency of the distances that we calculated using Haversine formula. I will do so by creating bins (0-10 kms, 10-20 kms, and so on, and check for any outliers)"
   ]
  },
  {
   "cell_type": "code",
   "execution_count": 57,
   "metadata": {},
   "outputs": [
    {
     "data": {
      "text/plain": [
       "Index(['H_Distance', 'bins'], dtype='object')"
      ]
     },
     "execution_count": 57,
     "metadata": {},
     "output_type": "execute_result"
    }
   ],
   "source": [
    "bins_0 = train.loc[(train['H_Distance'] == 0), ['H_Distance']]\n",
    "bins_1 = train.loc[(train['H_Distance'] > 0) & (train['H_Distance'] <= 10),['H_Distance']]\n",
    "bins_2 = train.loc[(train['H_Distance'] > 10) & (train['H_Distance'] <= 50),['H_Distance']]\n",
    "bins_3 = train.loc[(train['H_Distance'] > 50) & (train['H_Distance'] <= 100),['H_Distance']]\n",
    "bins_4 = train.loc[(train['H_Distance'] > 100) & (train['H_Distance'] <= 200),['H_Distance']]\n",
    "bins_5 = train.loc[(train['H_Distance'] > 200) & (train['H_Distance'] <= 300),['H_Distance']]\n",
    "bins_6 = train.loc[(train['H_Distance'] > 300),['H_Distance']]\n",
    "bins_0['bins'] = '0'\n",
    "bins_1['bins'] = '0-10'\n",
    "bins_2['bins'] = '11-50'\n",
    "bins_3['bins'] = '51-100'\n",
    "bins_4['bins'] = '100-200'\n",
    "bins_5['bins'] = '201-300'\n",
    "bins_6['bins'] = '>300'\n",
    "dist_bins =pd.concat([bins_0,bins_1,bins_2,bins_3,bins_4,bins_5,bins_6])\n",
    "#len(dist_bins)\n",
    "dist_bins.columns"
   ]
  },
  {
   "cell_type": "code",
   "execution_count": 58,
   "metadata": {},
   "outputs": [
    {
     "data": {
      "text/html": [
       "<div>\n",
       "<style scoped>\n",
       "    .dataframe tbody tr th:only-of-type {\n",
       "        vertical-align: middle;\n",
       "    }\n",
       "\n",
       "    .dataframe tbody tr th {\n",
       "        vertical-align: top;\n",
       "    }\n",
       "\n",
       "    .dataframe thead th {\n",
       "        text-align: right;\n",
       "    }\n",
       "</style>\n",
       "<table border=\"1\" class=\"dataframe\">\n",
       "  <thead>\n",
       "    <tr style=\"text-align: right;\">\n",
       "      <th></th>\n",
       "      <th>H_Distance</th>\n",
       "      <th>bins</th>\n",
       "    </tr>\n",
       "  </thead>\n",
       "  <tbody>\n",
       "  </tbody>\n",
       "</table>\n",
       "</div>"
      ],
      "text/plain": [
       "Empty DataFrame\n",
       "Columns: [H_Distance, bins]\n",
       "Index: []"
      ]
     },
     "execution_count": 58,
     "metadata": {},
     "output_type": "execute_result"
    }
   ],
   "source": [
    "bins_4.head()"
   ]
  },
  {
   "cell_type": "code",
   "execution_count": 59,
   "metadata": {},
   "outputs": [
    {
     "data": {
      "text/plain": [
       "Text(0, 0.5, 'Frequency')"
      ]
     },
     "execution_count": 59,
     "metadata": {},
     "output_type": "execute_result"
    },
    {
     "data": {
      "image/png": "[encoded data removed]",
      "text/plain": [
       "<Figure size 1080x504 with 1 Axes>"
      ]
     },
     "metadata": {
      "needs_background": "light"
     },
     "output_type": "display_data"
    }
   ],
   "source": [
    "plt.figure(figsize=(15,7))\n",
    "plt.hist(dist_bins['bins'], bins=75)\n",
    "plt.xlabel('Bins')\n",
    "plt.ylabel('Frequency')\n"
   ]
  },
  {
   "cell_type": "code",
   "execution_count": 60,
   "metadata": {},
   "outputs": [
    {
     "data": {
      "text/plain": [
       "Counter({'>300': 5})"
      ]
     },
     "execution_count": 60,
     "metadata": {},
     "output_type": "execute_result"
    }
   ],
   "source": [
    "\n",
    "Counter(dist_bins['bins'])"
   ]
  },
  {
   "cell_type": "markdown",
   "metadata": {},
   "source": [
    "### There are values which are greater than 100 kms! In NYC I am not sure why people would take cabs to travel more than a 100 kms. Since the number of bins for 100-200 kms is quite high, I will keep these. These outliers could be because of typos or missing values in the latitude or longitude. Remove fields of the following -\n",
    " Pickup latitude and pickup longitude are 0 but dropoff latitude and longitude are not 0, but the fare is 0\n",
    "vice versa of point 1.\n",
    "Pickup latitude and pickup longitude are 0 but dropoff latitude and longitude are not 0, but the fare is NOT 0. Here I will have to impute the distance values in both the train and test data.\n"
   ]
  },
  {
   "cell_type": "code",
   "execution_count": 61,
   "metadata": {},
   "outputs": [
    {
     "data": {
      "text/html": [
       "<div>\n",
       "<style scoped>\n",
       "    .dataframe tbody tr th:only-of-type {\n",
       "        vertical-align: middle;\n",
       "    }\n",
       "\n",
       "    .dataframe tbody tr th {\n",
       "        vertical-align: top;\n",
       "    }\n",
       "\n",
       "    .dataframe thead th {\n",
       "        text-align: right;\n",
       "    }\n",
       "</style>\n",
       "<table border=\"1\" class=\"dataframe\">\n",
       "  <thead>\n",
       "    <tr style=\"text-align: right;\">\n",
       "      <th></th>\n",
       "      <th>key</th>\n",
       "      <th>fare_amount</th>\n",
       "      <th>pickup_datetime</th>\n",
       "      <th>pickup_longitude</th>\n",
       "      <th>pickup_latitude</th>\n",
       "      <th>dropoff_longitude</th>\n",
       "      <th>dropoff_latitude</th>\n",
       "      <th>passenger_count</th>\n",
       "      <th>H_Distance</th>\n",
       "      <th>Year</th>\n",
       "      <th>Month</th>\n",
       "      <th>Date</th>\n",
       "      <th>Day of Week</th>\n",
       "      <th>Hour</th>\n",
       "    </tr>\n",
       "  </thead>\n",
       "  <tbody>\n",
       "  </tbody>\n",
       "</table>\n",
       "</div>"
      ],
      "text/plain": [
       "Empty DataFrame\n",
       "Columns: [key, fare_amount, pickup_datetime, pickup_longitude, pickup_latitude, dropoff_longitude, dropoff_latitude, passenger_count, H_Distance, Year, Month, Date, Day of Week, Hour]\n",
       "Index: []"
      ]
     },
     "execution_count": 61,
     "metadata": {},
     "output_type": "execute_result"
    }
   ],
   "source": [
    "train.loc[((train['pickup_latitude']==0) & (train['pickup_longitude']==0))&((train['dropoff_latitude']!=0) & (train['dropoff_longitude']!=0)) & (train['fare_amount']==0)]"
   ]
  },
  {
   "cell_type": "code",
   "execution_count": 62,
   "metadata": {},
   "outputs": [],
   "source": [
    "train = train.drop(train.loc[((train['pickup_latitude']==0) & (train['pickup_longitude']==0))&((train['dropoff_latitude']!=0) & (train['dropoff_longitude']!=0)) & (train['fare_amount']==0)].index, axis=0)"
   ]
  },
  {
   "cell_type": "code",
   "execution_count": 63,
   "metadata": {},
   "outputs": [
    {
     "data": {
      "text/plain": [
       "(5, 14)"
      ]
     },
     "execution_count": 63,
     "metadata": {},
     "output_type": "execute_result"
    }
   ],
   "source": [
    "#1 row dropped\n",
    "train.shape"
   ]
  },
  {
   "cell_type": "code",
   "execution_count": 64,
   "metadata": {},
   "outputs": [
    {
     "data": {
      "text/html": [
       "<div>\n",
       "<style scoped>\n",
       "    .dataframe tbody tr th:only-of-type {\n",
       "        vertical-align: middle;\n",
       "    }\n",
       "\n",
       "    .dataframe tbody tr th {\n",
       "        vertical-align: top;\n",
       "    }\n",
       "\n",
       "    .dataframe thead th {\n",
       "        text-align: right;\n",
       "    }\n",
       "</style>\n",
       "<table border=\"1\" class=\"dataframe\">\n",
       "  <thead>\n",
       "    <tr style=\"text-align: right;\">\n",
       "      <th></th>\n",
       "      <th>key</th>\n",
       "      <th>pickup_datetime</th>\n",
       "      <th>pickup_longitude</th>\n",
       "      <th>pickup_latitude</th>\n",
       "      <th>dropoff_longitude</th>\n",
       "      <th>dropoff_latitude</th>\n",
       "      <th>passenger_count</th>\n",
       "      <th>H_Distance</th>\n",
       "      <th>Year</th>\n",
       "      <th>Month</th>\n",
       "      <th>Date</th>\n",
       "      <th>Day of Week</th>\n",
       "      <th>Hour</th>\n",
       "    </tr>\n",
       "  </thead>\n",
       "  <tbody>\n",
       "  </tbody>\n",
       "</table>\n",
       "</div>"
      ],
      "text/plain": [
       "Empty DataFrame\n",
       "Columns: [key, pickup_datetime, pickup_longitude, pickup_latitude, dropoff_longitude, dropoff_latitude, passenger_count, H_Distance, Year, Month, Date, Day of Week, Hour]\n",
       "Index: []"
      ]
     },
     "execution_count": 64,
     "metadata": {},
     "output_type": "execute_result"
    }
   ],
   "source": [
    "#Check in test data\n",
    "test.loc[((test['pickup_latitude']==0) & (test['pickup_longitude']==0))&((test['dropoff_latitude']!=0) & (test['dropoff_longitude']!=0))]"
   ]
  },
  {
   "cell_type": "code",
   "execution_count": 65,
   "metadata": {},
   "outputs": [
    {
     "data": {
      "text/html": [
       "<div>\n",
       "<style scoped>\n",
       "    .dataframe tbody tr th:only-of-type {\n",
       "        vertical-align: middle;\n",
       "    }\n",
       "\n",
       "    .dataframe tbody tr th {\n",
       "        vertical-align: top;\n",
       "    }\n",
       "\n",
       "    .dataframe thead th {\n",
       "        text-align: right;\n",
       "    }\n",
       "</style>\n",
       "<table border=\"1\" class=\"dataframe\">\n",
       "  <thead>\n",
       "    <tr style=\"text-align: right;\">\n",
       "      <th></th>\n",
       "      <th>key</th>\n",
       "      <th>fare_amount</th>\n",
       "      <th>pickup_datetime</th>\n",
       "      <th>pickup_longitude</th>\n",
       "      <th>pickup_latitude</th>\n",
       "      <th>dropoff_longitude</th>\n",
       "      <th>dropoff_latitude</th>\n",
       "      <th>passenger_count</th>\n",
       "      <th>H_Distance</th>\n",
       "      <th>Year</th>\n",
       "      <th>Month</th>\n",
       "      <th>Date</th>\n",
       "      <th>Day of Week</th>\n",
       "      <th>Hour</th>\n",
       "    </tr>\n",
       "  </thead>\n",
       "  <tbody>\n",
       "  </tbody>\n",
       "</table>\n",
       "</div>"
      ],
      "text/plain": [
       "Empty DataFrame\n",
       "Columns: [key, fare_amount, pickup_datetime, pickup_longitude, pickup_latitude, dropoff_longitude, dropoff_latitude, passenger_count, H_Distance, Year, Month, Date, Day of Week, Hour]\n",
       "Index: []"
      ]
     },
     "execution_count": 65,
     "metadata": {},
     "output_type": "execute_result"
    }
   ],
   "source": [
    "train.loc[((train['pickup_latitude']!=0) & (train['pickup_longitude']!=0))&((train['dropoff_latitude']==0) & (train['dropoff_longitude']==0)) & (train['fare_amount']==0)]\n"
   ]
  },
  {
   "cell_type": "code",
   "execution_count": 66,
   "metadata": {},
   "outputs": [],
   "source": [
    "\n",
    "train = train.drop(train.loc[((train['pickup_latitude']!=0) & (train['pickup_longitude']!=0))&((train['dropoff_latitude']==0) & (train['dropoff_longitude']==0)) & (train['fare_amount']==0)].index, axis=0)"
   ]
  },
  {
   "cell_type": "code",
   "execution_count": 67,
   "metadata": {},
   "outputs": [
    {
     "data": {
      "text/plain": [
       "(5, 14)"
      ]
     },
     "execution_count": 67,
     "metadata": {},
     "output_type": "execute_result"
    }
   ],
   "source": [
    "train.shape\n"
   ]
  },
  {
   "cell_type": "code",
   "execution_count": 68,
   "metadata": {},
   "outputs": [
    {
     "data": {
      "text/html": [
       "<div>\n",
       "<style scoped>\n",
       "    .dataframe tbody tr th:only-of-type {\n",
       "        vertical-align: middle;\n",
       "    }\n",
       "\n",
       "    .dataframe tbody tr th {\n",
       "        vertical-align: top;\n",
       "    }\n",
       "\n",
       "    .dataframe thead th {\n",
       "        text-align: right;\n",
       "    }\n",
       "</style>\n",
       "<table border=\"1\" class=\"dataframe\">\n",
       "  <thead>\n",
       "    <tr style=\"text-align: right;\">\n",
       "      <th></th>\n",
       "      <th>key</th>\n",
       "      <th>pickup_datetime</th>\n",
       "      <th>pickup_longitude</th>\n",
       "      <th>pickup_latitude</th>\n",
       "      <th>dropoff_longitude</th>\n",
       "      <th>dropoff_latitude</th>\n",
       "      <th>passenger_count</th>\n",
       "      <th>H_Distance</th>\n",
       "      <th>Year</th>\n",
       "      <th>Month</th>\n",
       "      <th>Date</th>\n",
       "      <th>Day of Week</th>\n",
       "      <th>Hour</th>\n",
       "    </tr>\n",
       "  </thead>\n",
       "  <tbody>\n",
       "  </tbody>\n",
       "</table>\n",
       "</div>"
      ],
      "text/plain": [
       "Empty DataFrame\n",
       "Columns: [key, pickup_datetime, pickup_longitude, pickup_latitude, dropoff_longitude, dropoff_latitude, passenger_count, H_Distance, Year, Month, Date, Day of Week, Hour]\n",
       "Index: []"
      ]
     },
     "execution_count": 68,
     "metadata": {},
     "output_type": "execute_result"
    }
   ],
   "source": [
    "\n",
    "#Checking test data\n",
    "#Again no records! AWESOME!\n",
    "test.loc[((test['pickup_latitude']!=0) & (test['pickup_longitude']!=0))&((test['dropoff_latitude']==0) & (test['dropoff_longitude']==0))]\n"
   ]
  },
  {
   "cell_type": "code",
   "execution_count": 69,
   "metadata": {},
   "outputs": [],
   "source": [
    "high_distance = train.loc[(train['H_Distance']>200)&(train['fare_amount']!=0)]\n"
   ]
  },
  {
   "cell_type": "code",
   "execution_count": 70,
   "metadata": {},
   "outputs": [
    {
     "data": {
      "text/html": [
       "<div>\n",
       "<style scoped>\n",
       "    .dataframe tbody tr th:only-of-type {\n",
       "        vertical-align: middle;\n",
       "    }\n",
       "\n",
       "    .dataframe tbody tr th {\n",
       "        vertical-align: top;\n",
       "    }\n",
       "\n",
       "    .dataframe thead th {\n",
       "        text-align: right;\n",
       "    }\n",
       "</style>\n",
       "<table border=\"1\" class=\"dataframe\">\n",
       "  <thead>\n",
       "    <tr style=\"text-align: right;\">\n",
       "      <th></th>\n",
       "      <th>key</th>\n",
       "      <th>fare_amount</th>\n",
       "      <th>pickup_datetime</th>\n",
       "      <th>pickup_longitude</th>\n",
       "      <th>pickup_latitude</th>\n",
       "      <th>dropoff_longitude</th>\n",
       "      <th>dropoff_latitude</th>\n",
       "      <th>passenger_count</th>\n",
       "      <th>H_Distance</th>\n",
       "      <th>Year</th>\n",
       "      <th>Month</th>\n",
       "      <th>Date</th>\n",
       "      <th>Day of Week</th>\n",
       "      <th>Hour</th>\n",
       "    </tr>\n",
       "  </thead>\n",
       "  <tbody>\n",
       "    <tr>\n",
       "      <th>150559</th>\n",
       "      <td>2012-08-03 07:43:00.000000176</td>\n",
       "      <td>25.3</td>\n",
       "      <td>2012-08-03 07:43:00+00:00</td>\n",
       "      <td>0.000000</td>\n",
       "      <td>-3116.285383</td>\n",
       "      <td>-73.953600</td>\n",
       "      <td>40.787998</td>\n",
       "      <td>1</td>\n",
       "      <td>7195.230186</td>\n",
       "      <td>2012</td>\n",
       "      <td>8</td>\n",
       "      <td>3</td>\n",
       "      <td>4</td>\n",
       "      <td>7</td>\n",
       "    </tr>\n",
       "    <tr>\n",
       "      <th>2037003</th>\n",
       "      <td>2011-05-22 17:08:00.000000163</td>\n",
       "      <td>7.3</td>\n",
       "      <td>2011-05-22 17:08:00+00:00</td>\n",
       "      <td>-2995.982437</td>\n",
       "      <td>-2847.702303</td>\n",
       "      <td>-1265.146753</td>\n",
       "      <td>-16.566552</td>\n",
       "      <td>1</td>\n",
       "      <td>9139.500576</td>\n",
       "      <td>2011</td>\n",
       "      <td>5</td>\n",
       "      <td>22</td>\n",
       "      <td>6</td>\n",
       "      <td>17</td>\n",
       "    </tr>\n",
       "    <tr>\n",
       "      <th>2983841</th>\n",
       "      <td>2011-07-29 12:02:00.000000930</td>\n",
       "      <td>5.7</td>\n",
       "      <td>2011-07-29 12:02:00+00:00</td>\n",
       "      <td>2130.812885</td>\n",
       "      <td>-1765.599020</td>\n",
       "      <td>3411.463838</td>\n",
       "      <td>-78.089012</td>\n",
       "      <td>1</td>\n",
       "      <td>15057.093688</td>\n",
       "      <td>2011</td>\n",
       "      <td>7</td>\n",
       "      <td>29</td>\n",
       "      <td>4</td>\n",
       "      <td>12</td>\n",
       "    </tr>\n",
       "    <tr>\n",
       "      <th>4214024</th>\n",
       "      <td>2012-01-13 11:07:00.000000139</td>\n",
       "      <td>22.9</td>\n",
       "      <td>2012-01-13 11:07:00+00:00</td>\n",
       "      <td>-915.660903</td>\n",
       "      <td>-823.300890</td>\n",
       "      <td>2820.124643</td>\n",
       "      <td>-44.476612</td>\n",
       "      <td>1</td>\n",
       "      <td>4105.230789</td>\n",
       "      <td>2012</td>\n",
       "      <td>1</td>\n",
       "      <td>13</td>\n",
       "      <td>4</td>\n",
       "      <td>11</td>\n",
       "    </tr>\n",
       "    <tr>\n",
       "      <th>4988718</th>\n",
       "      <td>2011-07-11 19:26:00.000000230</td>\n",
       "      <td>7.3</td>\n",
       "      <td>2011-07-11 19:26:00+00:00</td>\n",
       "      <td>-0.108333</td>\n",
       "      <td>-2875.666330</td>\n",
       "      <td>-74.001840</td>\n",
       "      <td>40.728355</td>\n",
       "      <td>2</td>\n",
       "      <td>8338.837257</td>\n",
       "      <td>2011</td>\n",
       "      <td>7</td>\n",
       "      <td>11</td>\n",
       "      <td>0</td>\n",
       "      <td>19</td>\n",
       "    </tr>\n",
       "  </tbody>\n",
       "</table>\n",
       "</div>"
      ],
      "text/plain": [
       "                                  key  fare_amount           pickup_datetime  \\\n",
       "150559  2012-08-03 07:43:00.000000176         25.3 2012-08-03 07:43:00+00:00   \n",
       "2037003 2011-05-22 17:08:00.000000163          7.3 2011-05-22 17:08:00+00:00   \n",
       "2983841 2011-07-29 12:02:00.000000930          5.7 2011-07-29 12:02:00+00:00   \n",
       "4214024 2012-01-13 11:07:00.000000139         22.9 2012-01-13 11:07:00+00:00   \n",
       "4988718 2011-07-11 19:26:00.000000230          7.3 2011-07-11 19:26:00+00:00   \n",
       "\n",
       "         pickup_longitude  pickup_latitude  dropoff_longitude  \\\n",
       "150559           0.000000     -3116.285383         -73.953600   \n",
       "2037003      -2995.982437     -2847.702303       -1265.146753   \n",
       "2983841       2130.812885     -1765.599020        3411.463838   \n",
       "4214024       -915.660903      -823.300890        2820.124643   \n",
       "4988718         -0.108333     -2875.666330         -74.001840   \n",
       "\n",
       "         dropoff_latitude  passenger_count    H_Distance  Year  Month  Date  \\\n",
       "150559          40.787998                1   7195.230186  2012      8     3   \n",
       "2037003        -16.566552                1   9139.500576  2011      5    22   \n",
       "2983841        -78.089012                1  15057.093688  2011      7    29   \n",
       "4214024        -44.476612                1   4105.230789  2012      1    13   \n",
       "4988718         40.728355                2   8338.837257  2011      7    11   \n",
       "\n",
       "         Day of Week  Hour  \n",
       "150559             4     7  \n",
       "2037003            6    17  \n",
       "2983841            4    12  \n",
       "4214024            4    11  \n",
       "4988718            0    19  "
      ]
     },
     "execution_count": 70,
     "metadata": {},
     "output_type": "execute_result"
    }
   ],
   "source": [
    "high_distance\n"
   ]
  },
  {
   "cell_type": "markdown",
   "metadata": {},
   "source": [
    "\n",
    "1938 rows! As you can see from the DF above, the abnormally high distances are due to either the pickup or dropoff co-ordinates being incorrect or 0. However, since all these values have fares, I do not wish to drop them as they contain crucial data. Instead, I will replace the initial distance values with distance values calculated using the fare using the following formula\n",
    "\n",
    "distance = (fare_amount - 2.5)/1.56"
   ]
  },
  {
   "cell_type": "code",
   "execution_count": 71,
   "metadata": {},
   "outputs": [
    {
     "data": {
      "text/plain": [
       "(5, 14)"
      ]
     },
     "execution_count": 71,
     "metadata": {},
     "output_type": "execute_result"
    }
   ],
   "source": [
    "\n",
    "high_distance.shape\n"
   ]
  },
  {
   "cell_type": "code",
   "execution_count": 72,
   "metadata": {},
   "outputs": [],
   "source": [
    "high_distance['H_Distance'] = high_distance.apply(\n",
    "    lambda row: (row['fare_amount'] - 2.50)/1.56,\n",
    "    axis=1\n",
    ")"
   ]
  },
  {
   "cell_type": "code",
   "execution_count": 73,
   "metadata": {},
   "outputs": [
    {
     "data": {
      "text/html": [
       "<div>\n",
       "<style scoped>\n",
       "    .dataframe tbody tr th:only-of-type {\n",
       "        vertical-align: middle;\n",
       "    }\n",
       "\n",
       "    .dataframe tbody tr th {\n",
       "        vertical-align: top;\n",
       "    }\n",
       "\n",
       "    .dataframe thead th {\n",
       "        text-align: right;\n",
       "    }\n",
       "</style>\n",
       "<table border=\"1\" class=\"dataframe\">\n",
       "  <thead>\n",
       "    <tr style=\"text-align: right;\">\n",
       "      <th></th>\n",
       "      <th>key</th>\n",
       "      <th>fare_amount</th>\n",
       "      <th>pickup_datetime</th>\n",
       "      <th>pickup_longitude</th>\n",
       "      <th>pickup_latitude</th>\n",
       "      <th>dropoff_longitude</th>\n",
       "      <th>dropoff_latitude</th>\n",
       "      <th>passenger_count</th>\n",
       "      <th>H_Distance</th>\n",
       "      <th>Year</th>\n",
       "      <th>Month</th>\n",
       "      <th>Date</th>\n",
       "      <th>Day of Week</th>\n",
       "      <th>Hour</th>\n",
       "    </tr>\n",
       "  </thead>\n",
       "  <tbody>\n",
       "    <tr>\n",
       "      <th>150559</th>\n",
       "      <td>2012-08-03 07:43:00.000000176</td>\n",
       "      <td>25.3</td>\n",
       "      <td>2012-08-03 07:43:00+00:00</td>\n",
       "      <td>0.000000</td>\n",
       "      <td>-3116.285383</td>\n",
       "      <td>-73.953600</td>\n",
       "      <td>40.787998</td>\n",
       "      <td>1</td>\n",
       "      <td>14.615385</td>\n",
       "      <td>2012</td>\n",
       "      <td>8</td>\n",
       "      <td>3</td>\n",
       "      <td>4</td>\n",
       "      <td>7</td>\n",
       "    </tr>\n",
       "    <tr>\n",
       "      <th>2037003</th>\n",
       "      <td>2011-05-22 17:08:00.000000163</td>\n",
       "      <td>7.3</td>\n",
       "      <td>2011-05-22 17:08:00+00:00</td>\n",
       "      <td>-2995.982437</td>\n",
       "      <td>-2847.702303</td>\n",
       "      <td>-1265.146753</td>\n",
       "      <td>-16.566552</td>\n",
       "      <td>1</td>\n",
       "      <td>3.076923</td>\n",
       "      <td>2011</td>\n",
       "      <td>5</td>\n",
       "      <td>22</td>\n",
       "      <td>6</td>\n",
       "      <td>17</td>\n",
       "    </tr>\n",
       "    <tr>\n",
       "      <th>2983841</th>\n",
       "      <td>2011-07-29 12:02:00.000000930</td>\n",
       "      <td>5.7</td>\n",
       "      <td>2011-07-29 12:02:00+00:00</td>\n",
       "      <td>2130.812885</td>\n",
       "      <td>-1765.599020</td>\n",
       "      <td>3411.463838</td>\n",
       "      <td>-78.089012</td>\n",
       "      <td>1</td>\n",
       "      <td>2.051282</td>\n",
       "      <td>2011</td>\n",
       "      <td>7</td>\n",
       "      <td>29</td>\n",
       "      <td>4</td>\n",
       "      <td>12</td>\n",
       "    </tr>\n",
       "    <tr>\n",
       "      <th>4214024</th>\n",
       "      <td>2012-01-13 11:07:00.000000139</td>\n",
       "      <td>22.9</td>\n",
       "      <td>2012-01-13 11:07:00+00:00</td>\n",
       "      <td>-915.660903</td>\n",
       "      <td>-823.300890</td>\n",
       "      <td>2820.124643</td>\n",
       "      <td>-44.476612</td>\n",
       "      <td>1</td>\n",
       "      <td>13.076923</td>\n",
       "      <td>2012</td>\n",
       "      <td>1</td>\n",
       "      <td>13</td>\n",
       "      <td>4</td>\n",
       "      <td>11</td>\n",
       "    </tr>\n",
       "    <tr>\n",
       "      <th>4988718</th>\n",
       "      <td>2011-07-11 19:26:00.000000230</td>\n",
       "      <td>7.3</td>\n",
       "      <td>2011-07-11 19:26:00+00:00</td>\n",
       "      <td>-0.108333</td>\n",
       "      <td>-2875.666330</td>\n",
       "      <td>-74.001840</td>\n",
       "      <td>40.728355</td>\n",
       "      <td>2</td>\n",
       "      <td>3.076923</td>\n",
       "      <td>2011</td>\n",
       "      <td>7</td>\n",
       "      <td>11</td>\n",
       "      <td>0</td>\n",
       "      <td>19</td>\n",
       "    </tr>\n",
       "  </tbody>\n",
       "</table>\n",
       "</div>"
      ],
      "text/plain": [
       "                                  key  fare_amount           pickup_datetime  \\\n",
       "150559  2012-08-03 07:43:00.000000176         25.3 2012-08-03 07:43:00+00:00   \n",
       "2037003 2011-05-22 17:08:00.000000163          7.3 2011-05-22 17:08:00+00:00   \n",
       "2983841 2011-07-29 12:02:00.000000930          5.7 2011-07-29 12:02:00+00:00   \n",
       "4214024 2012-01-13 11:07:00.000000139         22.9 2012-01-13 11:07:00+00:00   \n",
       "4988718 2011-07-11 19:26:00.000000230          7.3 2011-07-11 19:26:00+00:00   \n",
       "\n",
       "         pickup_longitude  pickup_latitude  dropoff_longitude  \\\n",
       "150559           0.000000     -3116.285383         -73.953600   \n",
       "2037003      -2995.982437     -2847.702303       -1265.146753   \n",
       "2983841       2130.812885     -1765.599020        3411.463838   \n",
       "4214024       -915.660903      -823.300890        2820.124643   \n",
       "4988718         -0.108333     -2875.666330         -74.001840   \n",
       "\n",
       "         dropoff_latitude  passenger_count  H_Distance  Year  Month  Date  \\\n",
       "150559          40.787998                1   14.615385  2012      8     3   \n",
       "2037003        -16.566552                1    3.076923  2011      5    22   \n",
       "2983841        -78.089012                1    2.051282  2011      7    29   \n",
       "4214024        -44.476612                1   13.076923  2012      1    13   \n",
       "4988718         40.728355                2    3.076923  2011      7    11   \n",
       "\n",
       "         Day of Week  Hour  \n",
       "150559             4     7  \n",
       "2037003            6    17  \n",
       "2983841            4    12  \n",
       "4214024            4    11  \n",
       "4988718            0    19  "
      ]
     },
     "execution_count": 73,
     "metadata": {},
     "output_type": "execute_result"
    }
   ],
   "source": [
    "high_distance\n"
   ]
  },
  {
   "cell_type": "code",
   "execution_count": 74,
   "metadata": {},
   "outputs": [],
   "source": [
    "#sync the train data with the newly computed distance values from high_distance dataframe\n",
    "train.update(high_distance)\n"
   ]
  },
  {
   "cell_type": "code",
   "execution_count": 75,
   "metadata": {},
   "outputs": [
    {
     "data": {
      "text/plain": [
       "(5, 14)"
      ]
     },
     "execution_count": 75,
     "metadata": {},
     "output_type": "execute_result"
    }
   ],
   "source": [
    "train.shape\n"
   ]
  },
  {
   "cell_type": "code",
   "execution_count": 76,
   "metadata": {},
   "outputs": [],
   "source": [
    "#Now we shall check for rows where the distance values are 0\n",
    "\n"
   ]
  },
  {
   "cell_type": "code",
   "execution_count": 77,
   "metadata": {},
   "outputs": [
    {
     "data": {
      "text/html": [
       "<div>\n",
       "<style scoped>\n",
       "    .dataframe tbody tr th:only-of-type {\n",
       "        vertical-align: middle;\n",
       "    }\n",
       "\n",
       "    .dataframe tbody tr th {\n",
       "        vertical-align: top;\n",
       "    }\n",
       "\n",
       "    .dataframe thead th {\n",
       "        text-align: right;\n",
       "    }\n",
       "</style>\n",
       "<table border=\"1\" class=\"dataframe\">\n",
       "  <thead>\n",
       "    <tr style=\"text-align: right;\">\n",
       "      <th></th>\n",
       "      <th>key</th>\n",
       "      <th>fare_amount</th>\n",
       "      <th>pickup_datetime</th>\n",
       "      <th>pickup_longitude</th>\n",
       "      <th>pickup_latitude</th>\n",
       "      <th>dropoff_longitude</th>\n",
       "      <th>dropoff_latitude</th>\n",
       "      <th>passenger_count</th>\n",
       "      <th>H_Distance</th>\n",
       "      <th>Year</th>\n",
       "      <th>Month</th>\n",
       "      <th>Date</th>\n",
       "      <th>Day of Week</th>\n",
       "      <th>Hour</th>\n",
       "    </tr>\n",
       "  </thead>\n",
       "  <tbody>\n",
       "  </tbody>\n",
       "</table>\n",
       "</div>"
      ],
      "text/plain": [
       "Empty DataFrame\n",
       "Columns: [key, fare_amount, pickup_datetime, pickup_longitude, pickup_latitude, dropoff_longitude, dropoff_latitude, passenger_count, H_Distance, Year, Month, Date, Day of Week, Hour]\n",
       "Index: []"
      ]
     },
     "execution_count": 77,
     "metadata": {},
     "output_type": "execute_result"
    }
   ],
   "source": [
    "train[train['H_Distance']==0]\n"
   ]
  },
  {
   "cell_type": "markdown",
   "metadata": {},
   "source": [
    "We can see a few rows with distance =0. This could be due to 2 reasons\n",
    "\n",
    "The cab waited the whole time and the passenger eventually cancelled. That's why the pickup and drop co-ordinates are the same and maybe, the passenger was charged for the waiting time.\n",
    "The pickup and drop co-ordinates were not entered. In other words, these are missing values!\n",
    "28667 rows are too many rows to be deleted. We need to impute these missing values. I have a plan. I intend to impute the missing distance values with the fare and average price per kilometer of NYC cabs.\n",
    "\n",
    "A quick Google search gave me the following prices -\n",
    "\n",
    "$$2.5 base-price + $1.56/km --> 6AM to 8PM Mon-Fri\n",
    "\n",
    "$$3.0 base-price + $1.56/km --> 8PM to 6AM Mon-Fri and Sat&Sun\n",
    "\n",
    "However, before we proceed with the above steps, lets check for the following scenarios to impute the missing fare amount and the H_Distance in train data."
   ]
  },
  {
   "cell_type": "markdown",
   "metadata": {},
   "source": [
    "SCENARIO 1\n",
    "\n",
    "Fare and Distance are both 0. According to the table above, we shall delete them as they do not provide us any info with regards to the data."
   ]
  },
  {
   "cell_type": "code",
   "execution_count": 78,
   "metadata": {},
   "outputs": [
    {
     "data": {
      "text/html": [
       "<div>\n",
       "<style scoped>\n",
       "    .dataframe tbody tr th:only-of-type {\n",
       "        vertical-align: middle;\n",
       "    }\n",
       "\n",
       "    .dataframe tbody tr th {\n",
       "        vertical-align: top;\n",
       "    }\n",
       "\n",
       "    .dataframe thead th {\n",
       "        text-align: right;\n",
       "    }\n",
       "</style>\n",
       "<table border=\"1\" class=\"dataframe\">\n",
       "  <thead>\n",
       "    <tr style=\"text-align: right;\">\n",
       "      <th></th>\n",
       "      <th>key</th>\n",
       "      <th>fare_amount</th>\n",
       "      <th>pickup_datetime</th>\n",
       "      <th>pickup_longitude</th>\n",
       "      <th>pickup_latitude</th>\n",
       "      <th>dropoff_longitude</th>\n",
       "      <th>dropoff_latitude</th>\n",
       "      <th>passenger_count</th>\n",
       "      <th>H_Distance</th>\n",
       "      <th>Year</th>\n",
       "      <th>Month</th>\n",
       "      <th>Date</th>\n",
       "      <th>Day of Week</th>\n",
       "      <th>Hour</th>\n",
       "    </tr>\n",
       "  </thead>\n",
       "  <tbody>\n",
       "  </tbody>\n",
       "</table>\n",
       "</div>"
      ],
      "text/plain": [
       "Empty DataFrame\n",
       "Columns: [key, fare_amount, pickup_datetime, pickup_longitude, pickup_latitude, dropoff_longitude, dropoff_latitude, passenger_count, H_Distance, Year, Month, Date, Day of Week, Hour]\n",
       "Index: []"
      ]
     },
     "execution_count": 78,
     "metadata": {},
     "output_type": "execute_result"
    }
   ],
   "source": [
    "train[(train['H_Distance']==0)&(train['fare_amount']==0)]\n"
   ]
  },
  {
   "cell_type": "markdown",
   "metadata": {},
   "source": [
    "#There are 4 rows. There 4 rows do not help us in anyway as we do not know either the distance or the fare to impute the missing values. So we shall drop them"
   ]
  },
  {
   "cell_type": "code",
   "execution_count": 79,
   "metadata": {},
   "outputs": [],
   "source": [
    "train = train.drop(train[(train['H_Distance']==0)&(train['fare_amount']==0)].index, axis = 0)"
   ]
  },
  {
   "cell_type": "code",
   "execution_count": 80,
   "metadata": {},
   "outputs": [
    {
     "data": {
      "text/plain": [
       "(0, 14)"
      ]
     },
     "execution_count": 80,
     "metadata": {},
     "output_type": "execute_result"
    }
   ],
   "source": [
    "\n",
    "#4 rows dropped\n",
    "train[(train['H_Distance']==0)].shape"
   ]
  },
  {
   "cell_type": "markdown",
   "metadata": {},
   "source": [
    "SCENARIO 2\n",
    "\n",
    "Fare is not 0 and is less than the base amount, but Distance is 0.\n",
    "\n",
    "Delete these rows as the minimum is $2.50, and these fares are incorrect values."
   ]
  },
  {
   "cell_type": "code",
   "execution_count": 81,
   "metadata": {},
   "outputs": [
    {
     "data": {
      "text/html": [
       "<div>\n",
       "<style scoped>\n",
       "    .dataframe tbody tr th:only-of-type {\n",
       "        vertical-align: middle;\n",
       "    }\n",
       "\n",
       "    .dataframe tbody tr th {\n",
       "        vertical-align: top;\n",
       "    }\n",
       "\n",
       "    .dataframe thead th {\n",
       "        text-align: right;\n",
       "    }\n",
       "</style>\n",
       "<table border=\"1\" class=\"dataframe\">\n",
       "  <thead>\n",
       "    <tr style=\"text-align: right;\">\n",
       "      <th></th>\n",
       "      <th>key</th>\n",
       "      <th>fare_amount</th>\n",
       "      <th>pickup_datetime</th>\n",
       "      <th>pickup_longitude</th>\n",
       "      <th>pickup_latitude</th>\n",
       "      <th>dropoff_longitude</th>\n",
       "      <th>dropoff_latitude</th>\n",
       "      <th>passenger_count</th>\n",
       "      <th>H_Distance</th>\n",
       "      <th>Year</th>\n",
       "      <th>Month</th>\n",
       "      <th>Date</th>\n",
       "      <th>Day of Week</th>\n",
       "      <th>Hour</th>\n",
       "    </tr>\n",
       "  </thead>\n",
       "  <tbody>\n",
       "  </tbody>\n",
       "</table>\n",
       "</div>"
      ],
      "text/plain": [
       "Empty DataFrame\n",
       "Columns: [key, fare_amount, pickup_datetime, pickup_longitude, pickup_latitude, dropoff_longitude, dropoff_latitude, passenger_count, H_Distance, Year, Month, Date, Day of Week, Hour]\n",
       "Index: []"
      ]
     },
     "execution_count": 81,
     "metadata": {},
     "output_type": "execute_result"
    }
   ],
   "source": [
    "#Between 6AM and 8PM on Mon-Fri\n",
    "rush_hour = train.loc[(((train['Hour']>=6)&(train['Hour']<=20)) & ((train['Day of Week']>=1) & (train['Day of Week']<=5)) & (train['H_Distance']==0) & (train['fare_amount'] < 2.5))]\n",
    "rush_hour\n"
   ]
  },
  {
   "cell_type": "code",
   "execution_count": 82,
   "metadata": {},
   "outputs": [],
   "source": [
    "train=train.drop(rush_hour.index, axis=0)\n"
   ]
  },
  {
   "cell_type": "code",
   "execution_count": 83,
   "metadata": {},
   "outputs": [
    {
     "data": {
      "text/plain": [
       "(5, 14)"
      ]
     },
     "execution_count": 83,
     "metadata": {},
     "output_type": "execute_result"
    }
   ],
   "source": [
    "train.shape\n"
   ]
  },
  {
   "cell_type": "code",
   "execution_count": 84,
   "metadata": {},
   "outputs": [
    {
     "data": {
      "text/html": [
       "<div>\n",
       "<style scoped>\n",
       "    .dataframe tbody tr th:only-of-type {\n",
       "        vertical-align: middle;\n",
       "    }\n",
       "\n",
       "    .dataframe tbody tr th {\n",
       "        vertical-align: top;\n",
       "    }\n",
       "\n",
       "    .dataframe thead th {\n",
       "        text-align: right;\n",
       "    }\n",
       "</style>\n",
       "<table border=\"1\" class=\"dataframe\">\n",
       "  <thead>\n",
       "    <tr style=\"text-align: right;\">\n",
       "      <th></th>\n",
       "      <th>key</th>\n",
       "      <th>fare_amount</th>\n",
       "      <th>pickup_datetime</th>\n",
       "      <th>pickup_longitude</th>\n",
       "      <th>pickup_latitude</th>\n",
       "      <th>dropoff_longitude</th>\n",
       "      <th>dropoff_latitude</th>\n",
       "      <th>passenger_count</th>\n",
       "      <th>H_Distance</th>\n",
       "      <th>Year</th>\n",
       "      <th>Month</th>\n",
       "      <th>Date</th>\n",
       "      <th>Day of Week</th>\n",
       "      <th>Hour</th>\n",
       "    </tr>\n",
       "  </thead>\n",
       "  <tbody>\n",
       "  </tbody>\n",
       "</table>\n",
       "</div>"
      ],
      "text/plain": [
       "Empty DataFrame\n",
       "Columns: [key, fare_amount, pickup_datetime, pickup_longitude, pickup_latitude, dropoff_longitude, dropoff_latitude, passenger_count, H_Distance, Year, Month, Date, Day of Week, Hour]\n",
       "Index: []"
      ]
     },
     "execution_count": 84,
     "metadata": {},
     "output_type": "execute_result"
    }
   ],
   "source": [
    "#Between 8PM and 6AM on Mon-Fri\n",
    "non_rush_hour = train.loc[(((train['Hour']<6)|(train['Hour']>20)) & ((train['Day of Week']>=1)&(train['Day of Week']<=5)) & (train['H_Distance']==0) & (train['fare_amount'] < 3.0))]\n",
    "#print(Counter(non_work_hours['Hour']))\n",
    "#print(Counter(non_work_hours['Day of Week']))\n",
    "non_rush_hour\n",
    "#keep these. Since the fare_amount is not <2.5 (which is the base fare), these values seem legit to me.\n"
   ]
  },
  {
   "cell_type": "code",
   "execution_count": 85,
   "metadata": {},
   "outputs": [
    {
     "data": {
      "text/html": [
       "<div>\n",
       "<style scoped>\n",
       "    .dataframe tbody tr th:only-of-type {\n",
       "        vertical-align: middle;\n",
       "    }\n",
       "\n",
       "    .dataframe tbody tr th {\n",
       "        vertical-align: top;\n",
       "    }\n",
       "\n",
       "    .dataframe thead th {\n",
       "        text-align: right;\n",
       "    }\n",
       "</style>\n",
       "<table border=\"1\" class=\"dataframe\">\n",
       "  <thead>\n",
       "    <tr style=\"text-align: right;\">\n",
       "      <th></th>\n",
       "      <th>key</th>\n",
       "      <th>fare_amount</th>\n",
       "      <th>pickup_datetime</th>\n",
       "      <th>pickup_longitude</th>\n",
       "      <th>pickup_latitude</th>\n",
       "      <th>dropoff_longitude</th>\n",
       "      <th>dropoff_latitude</th>\n",
       "      <th>passenger_count</th>\n",
       "      <th>H_Distance</th>\n",
       "      <th>Year</th>\n",
       "      <th>Month</th>\n",
       "      <th>Date</th>\n",
       "      <th>Day of Week</th>\n",
       "      <th>Hour</th>\n",
       "    </tr>\n",
       "  </thead>\n",
       "  <tbody>\n",
       "  </tbody>\n",
       "</table>\n",
       "</div>"
      ],
      "text/plain": [
       "Empty DataFrame\n",
       "Columns: [key, fare_amount, pickup_datetime, pickup_longitude, pickup_latitude, dropoff_longitude, dropoff_latitude, passenger_count, H_Distance, Year, Month, Date, Day of Week, Hour]\n",
       "Index: []"
      ]
     },
     "execution_count": 85,
     "metadata": {},
     "output_type": "execute_result"
    }
   ],
   "source": [
    "#Saturday and Sunday all hours\n",
    "weekends = train.loc[((train['Day of Week']==0) | (train['Day of Week']==6)) & (train['H_Distance']==0) & (train['fare_amount'] < 3.0)]\n",
    "weekends\n",
    "#Counter(weekends['Day of Week'])\n",
    "#keep these too. Since the fare_amount is not <2.5, these values seem legit to me."
   ]
  },
  {
   "cell_type": "markdown",
   "metadata": {},
   "source": [
    "From scenario 2, I can understand that the distance is 0, but the fare is all the minimum fare of $2.5. This could be because the passenger booked the cab but ended up cancelling to pay the base fare (not sure how this works in NYC, but I'm assuming that's how it is)\n",
    "\n",
    "SCENARIO 3\n",
    "\n",
    "Fare is 0, but Distance is not 0. These values need to be imputed.\n",
    "\n",
    "I can calculate the fare as I have the distance. I shall use the following formula\n",
    "\n",
    "fare = 2.5 + 1.56(H_Distance)\n",
    "\n"
   ]
  },
  {
   "cell_type": "code",
   "execution_count": 86,
   "metadata": {},
   "outputs": [
    {
     "data": {
      "text/html": [
       "<div>\n",
       "<style scoped>\n",
       "    .dataframe tbody tr th:only-of-type {\n",
       "        vertical-align: middle;\n",
       "    }\n",
       "\n",
       "    .dataframe tbody tr th {\n",
       "        vertical-align: top;\n",
       "    }\n",
       "\n",
       "    .dataframe thead th {\n",
       "        text-align: right;\n",
       "    }\n",
       "</style>\n",
       "<table border=\"1\" class=\"dataframe\">\n",
       "  <thead>\n",
       "    <tr style=\"text-align: right;\">\n",
       "      <th></th>\n",
       "      <th>key</th>\n",
       "      <th>fare_amount</th>\n",
       "      <th>pickup_datetime</th>\n",
       "      <th>pickup_longitude</th>\n",
       "      <th>pickup_latitude</th>\n",
       "      <th>dropoff_longitude</th>\n",
       "      <th>dropoff_latitude</th>\n",
       "      <th>passenger_count</th>\n",
       "      <th>H_Distance</th>\n",
       "      <th>Year</th>\n",
       "      <th>Month</th>\n",
       "      <th>Date</th>\n",
       "      <th>Day of Week</th>\n",
       "      <th>Hour</th>\n",
       "    </tr>\n",
       "  </thead>\n",
       "  <tbody>\n",
       "  </tbody>\n",
       "</table>\n",
       "</div>"
      ],
      "text/plain": [
       "Empty DataFrame\n",
       "Columns: [key, fare_amount, pickup_datetime, pickup_longitude, pickup_latitude, dropoff_longitude, dropoff_latitude, passenger_count, H_Distance, Year, Month, Date, Day of Week, Hour]\n",
       "Index: []"
      ]
     },
     "execution_count": 86,
     "metadata": {},
     "output_type": "execute_result"
    }
   ],
   "source": [
    "train.loc[(train['H_Distance']!=0) & (train['fare_amount']==0)]\n"
   ]
  },
  {
   "cell_type": "code",
   "execution_count": 87,
   "metadata": {},
   "outputs": [],
   "source": [
    "scenario_3 = train.loc[(train['H_Distance']!=0) & (train['fare_amount']==0)]"
   ]
  },
  {
   "cell_type": "code",
   "execution_count": 88,
   "metadata": {},
   "outputs": [
    {
     "data": {
      "text/plain": [
       "0"
      ]
     },
     "execution_count": 88,
     "metadata": {},
     "output_type": "execute_result"
    }
   ],
   "source": [
    "len(scenario_3)\n"
   ]
  },
  {
   "cell_type": "code",
   "execution_count": 89,
   "metadata": {},
   "outputs": [
    {
     "data": {
      "text/html": [
       "<div>\n",
       "<style scoped>\n",
       "    .dataframe tbody tr th:only-of-type {\n",
       "        vertical-align: middle;\n",
       "    }\n",
       "\n",
       "    .dataframe tbody tr th {\n",
       "        vertical-align: top;\n",
       "    }\n",
       "\n",
       "    .dataframe thead th {\n",
       "        text-align: right;\n",
       "    }\n",
       "</style>\n",
       "<table border=\"1\" class=\"dataframe\">\n",
       "  <thead>\n",
       "    <tr style=\"text-align: right;\">\n",
       "      <th></th>\n",
       "      <th>key</th>\n",
       "      <th>fare_amount</th>\n",
       "      <th>pickup_datetime</th>\n",
       "      <th>pickup_longitude</th>\n",
       "      <th>pickup_latitude</th>\n",
       "      <th>dropoff_longitude</th>\n",
       "      <th>dropoff_latitude</th>\n",
       "      <th>passenger_count</th>\n",
       "      <th>H_Distance</th>\n",
       "      <th>Year</th>\n",
       "      <th>Month</th>\n",
       "      <th>Date</th>\n",
       "      <th>Day of Week</th>\n",
       "      <th>Hour</th>\n",
       "    </tr>\n",
       "  </thead>\n",
       "  <tbody>\n",
       "  </tbody>\n",
       "</table>\n",
       "</div>"
      ],
      "text/plain": [
       "Empty DataFrame\n",
       "Columns: [key, fare_amount, pickup_datetime, pickup_longitude, pickup_latitude, dropoff_longitude, dropoff_latitude, passenger_count, H_Distance, Year, Month, Date, Day of Week, Hour]\n",
       "Index: []"
      ]
     },
     "execution_count": 89,
     "metadata": {},
     "output_type": "execute_result"
    }
   ],
   "source": [
    "#We do not have any distance values that are outliers.\n",
    "scenario_3.sort_values('H_Distance', ascending=False)\n"
   ]
  },
  {
   "cell_type": "code",
   "execution_count": 92,
   "metadata": {},
   "outputs": [
    {
     "ename": "ValueError",
     "evalue": "Columns must be same length as key",
     "output_type": "error",
     "traceback": [
      "\u001b[1;31m---------------------------------------------------------------------------\u001b[0m",
      "\u001b[1;31mValueError\u001b[0m                                Traceback (most recent call last)",
      "\u001b[1;32m~\\AppData\\Local\\Temp/ipykernel_14536/2424234645.py\u001b[0m in \u001b[0;36m<module>\u001b[1;34m\u001b[0m\n\u001b[1;32m----> 1\u001b[1;33m scenario_3['fare_amount'] = scenario_3.apply(\n\u001b[0m\u001b[0;32m      2\u001b[0m     lambda row: ((row['H_Distance'] * 1.56) + 2.50), axis=1)\n",
      "\u001b[1;32m~\\anaconda3\\lib\\site-packages\\pandas\\core\\frame.py\u001b[0m in \u001b[0;36m__setitem__\u001b[1;34m(self, key, value)\u001b[0m\n\u001b[0;32m   3600\u001b[0m             \u001b[0mself\u001b[0m\u001b[1;33m.\u001b[0m\u001b[0m_setitem_array\u001b[0m\u001b[1;33m(\u001b[0m\u001b[0mkey\u001b[0m\u001b[1;33m,\u001b[0m \u001b[0mvalue\u001b[0m\u001b[1;33m)\u001b[0m\u001b[1;33m\u001b[0m\u001b[1;33m\u001b[0m\u001b[0m\n\u001b[0;32m   3601\u001b[0m         \u001b[1;32melif\u001b[0m \u001b[0misinstance\u001b[0m\u001b[1;33m(\u001b[0m\u001b[0mvalue\u001b[0m\u001b[1;33m,\u001b[0m \u001b[0mDataFrame\u001b[0m\u001b[1;33m)\u001b[0m\u001b[1;33m:\u001b[0m\u001b[1;33m\u001b[0m\u001b[1;33m\u001b[0m\u001b[0m\n\u001b[1;32m-> 3602\u001b[1;33m             \u001b[0mself\u001b[0m\u001b[1;33m.\u001b[0m\u001b[0m_set_item_frame_value\u001b[0m\u001b[1;33m(\u001b[0m\u001b[0mkey\u001b[0m\u001b[1;33m,\u001b[0m \u001b[0mvalue\u001b[0m\u001b[1;33m)\u001b[0m\u001b[1;33m\u001b[0m\u001b[1;33m\u001b[0m\u001b[0m\n\u001b[0m\u001b[0;32m   3603\u001b[0m         elif (\n\u001b[0;32m   3604\u001b[0m             \u001b[0mis_list_like\u001b[0m\u001b[1;33m(\u001b[0m\u001b[0mvalue\u001b[0m\u001b[1;33m)\u001b[0m\u001b[1;33m\u001b[0m\u001b[1;33m\u001b[0m\u001b[0m\n",
      "\u001b[1;32m~\\anaconda3\\lib\\site-packages\\pandas\\core\\frame.py\u001b[0m in \u001b[0;36m_set_item_frame_value\u001b[1;34m(self, key, value)\u001b[0m\n\u001b[0;32m   3727\u001b[0m             \u001b[0mlen_cols\u001b[0m \u001b[1;33m=\u001b[0m \u001b[1;36m1\u001b[0m \u001b[1;32mif\u001b[0m \u001b[0mis_scalar\u001b[0m\u001b[1;33m(\u001b[0m\u001b[0mcols\u001b[0m\u001b[1;33m)\u001b[0m \u001b[1;32melse\u001b[0m \u001b[0mlen\u001b[0m\u001b[1;33m(\u001b[0m\u001b[0mcols\u001b[0m\u001b[1;33m)\u001b[0m\u001b[1;33m\u001b[0m\u001b[1;33m\u001b[0m\u001b[0m\n\u001b[0;32m   3728\u001b[0m             \u001b[1;32mif\u001b[0m \u001b[0mlen_cols\u001b[0m \u001b[1;33m!=\u001b[0m \u001b[0mlen\u001b[0m\u001b[1;33m(\u001b[0m\u001b[0mvalue\u001b[0m\u001b[1;33m.\u001b[0m\u001b[0mcolumns\u001b[0m\u001b[1;33m)\u001b[0m\u001b[1;33m:\u001b[0m\u001b[1;33m\u001b[0m\u001b[1;33m\u001b[0m\u001b[0m\n\u001b[1;32m-> 3729\u001b[1;33m                 \u001b[1;32mraise\u001b[0m \u001b[0mValueError\u001b[0m\u001b[1;33m(\u001b[0m\u001b[1;34m\"Columns must be same length as key\"\u001b[0m\u001b[1;33m)\u001b[0m\u001b[1;33m\u001b[0m\u001b[1;33m\u001b[0m\u001b[0m\n\u001b[0m\u001b[0;32m   3730\u001b[0m \u001b[1;33m\u001b[0m\u001b[0m\n\u001b[0;32m   3731\u001b[0m             \u001b[1;31m# align right-hand-side columns if self.columns\u001b[0m\u001b[1;33m\u001b[0m\u001b[1;33m\u001b[0m\u001b[0m\n",
      "\u001b[1;31mValueError\u001b[0m: Columns must be same length as key"
     ]
    }
   ],
   "source": [
    "scenario_3['fare_amount'] = scenario_3.apply(\n",
    "    lambda row: ((row['H_Distance'] * 1.56) + 2.50), axis=1)\n"
   ]
  },
  {
   "cell_type": "code",
   "execution_count": null,
   "metadata": {},
   "outputs": [],
   "source": [
    "scenario_3['fare_amount']\n"
   ]
  },
  {
   "cell_type": "code",
   "execution_count": 93,
   "metadata": {},
   "outputs": [],
   "source": [
    "train.update(scenario_3)\n"
   ]
  },
  {
   "cell_type": "code",
   "execution_count": 94,
   "metadata": {},
   "outputs": [
    {
     "data": {
      "text/plain": [
       "(5, 14)"
      ]
     },
     "execution_count": 94,
     "metadata": {},
     "output_type": "execute_result"
    }
   ],
   "source": [
    "\n",
    "train.shape"
   ]
  },
  {
   "cell_type": "markdown",
   "metadata": {},
   "source": [
    "\n",
    "SCENARIO 4\n",
    "\n",
    "Fare is not 0, but Distance is 0. These values need to be imputed.\n",
    "\n"
   ]
  },
  {
   "cell_type": "code",
   "execution_count": 95,
   "metadata": {},
   "outputs": [
    {
     "data": {
      "text/html": [
       "<div>\n",
       "<style scoped>\n",
       "    .dataframe tbody tr th:only-of-type {\n",
       "        vertical-align: middle;\n",
       "    }\n",
       "\n",
       "    .dataframe tbody tr th {\n",
       "        vertical-align: top;\n",
       "    }\n",
       "\n",
       "    .dataframe thead th {\n",
       "        text-align: right;\n",
       "    }\n",
       "</style>\n",
       "<table border=\"1\" class=\"dataframe\">\n",
       "  <thead>\n",
       "    <tr style=\"text-align: right;\">\n",
       "      <th></th>\n",
       "      <th>key</th>\n",
       "      <th>fare_amount</th>\n",
       "      <th>pickup_datetime</th>\n",
       "      <th>pickup_longitude</th>\n",
       "      <th>pickup_latitude</th>\n",
       "      <th>dropoff_longitude</th>\n",
       "      <th>dropoff_latitude</th>\n",
       "      <th>passenger_count</th>\n",
       "      <th>H_Distance</th>\n",
       "      <th>Year</th>\n",
       "      <th>Month</th>\n",
       "      <th>Date</th>\n",
       "      <th>Day of Week</th>\n",
       "      <th>Hour</th>\n",
       "    </tr>\n",
       "  </thead>\n",
       "  <tbody>\n",
       "  </tbody>\n",
       "</table>\n",
       "</div>"
      ],
      "text/plain": [
       "Empty DataFrame\n",
       "Columns: [key, fare_amount, pickup_datetime, pickup_longitude, pickup_latitude, dropoff_longitude, dropoff_latitude, passenger_count, H_Distance, Year, Month, Date, Day of Week, Hour]\n",
       "Index: []"
      ]
     },
     "execution_count": 95,
     "metadata": {},
     "output_type": "execute_result"
    }
   ],
   "source": [
    "train.loc[(train['H_Distance']==0) & (train['fare_amount']!=0)]"
   ]
  },
  {
   "cell_type": "code",
   "execution_count": 96,
   "metadata": {},
   "outputs": [],
   "source": [
    "scenario_4 = train.loc[(train['H_Distance']==0) & (train['fare_amount']!=0)]"
   ]
  },
  {
   "cell_type": "code",
   "execution_count": 97,
   "metadata": {},
   "outputs": [
    {
     "data": {
      "text/plain": [
       "0"
      ]
     },
     "execution_count": 97,
     "metadata": {},
     "output_type": "execute_result"
    }
   ],
   "source": [
    "\n",
    "len(scenario_4)"
   ]
  },
  {
   "cell_type": "code",
   "execution_count": 98,
   "metadata": {},
   "outputs": [
    {
     "data": {
      "text/html": [
       "<div>\n",
       "<style scoped>\n",
       "    .dataframe tbody tr th:only-of-type {\n",
       "        vertical-align: middle;\n",
       "    }\n",
       "\n",
       "    .dataframe tbody tr th {\n",
       "        vertical-align: top;\n",
       "    }\n",
       "\n",
       "    .dataframe thead th {\n",
       "        text-align: right;\n",
       "    }\n",
       "</style>\n",
       "<table border=\"1\" class=\"dataframe\">\n",
       "  <thead>\n",
       "    <tr style=\"text-align: right;\">\n",
       "      <th></th>\n",
       "      <th>key</th>\n",
       "      <th>fare_amount</th>\n",
       "      <th>pickup_datetime</th>\n",
       "      <th>pickup_longitude</th>\n",
       "      <th>pickup_latitude</th>\n",
       "      <th>dropoff_longitude</th>\n",
       "      <th>dropoff_latitude</th>\n",
       "      <th>passenger_count</th>\n",
       "      <th>H_Distance</th>\n",
       "      <th>Year</th>\n",
       "      <th>Month</th>\n",
       "      <th>Date</th>\n",
       "      <th>Day of Week</th>\n",
       "      <th>Hour</th>\n",
       "    </tr>\n",
       "  </thead>\n",
       "  <tbody>\n",
       "  </tbody>\n",
       "</table>\n",
       "</div>"
      ],
      "text/plain": [
       "Empty DataFrame\n",
       "Columns: [key, fare_amount, pickup_datetime, pickup_longitude, pickup_latitude, dropoff_longitude, dropoff_latitude, passenger_count, H_Distance, Year, Month, Date, Day of Week, Hour]\n",
       "Index: []"
      ]
     },
     "execution_count": 98,
     "metadata": {},
     "output_type": "execute_result"
    }
   ],
   "source": [
    "\n",
    "#Using our prior knowledge about the base price during weekdays and weekends for the cabs.\n",
    "#I do not want to impute these 1502 values as they are legible ones.\n",
    "scenario_4.loc[(scenario_4['fare_amount']<=3.0)&(scenario_4['H_Distance']==0)]"
   ]
  },
  {
   "cell_type": "code",
   "execution_count": 99,
   "metadata": {},
   "outputs": [],
   "source": [
    "\n",
    "scenario_4_sub = scenario_4.loc[(scenario_4['fare_amount']>3.0)&(scenario_4['H_Distance']==0)]\n"
   ]
  },
  {
   "cell_type": "code",
   "execution_count": 100,
   "metadata": {},
   "outputs": [
    {
     "data": {
      "text/plain": [
       "0"
      ]
     },
     "execution_count": 100,
     "metadata": {},
     "output_type": "execute_result"
    }
   ],
   "source": [
    "\n",
    "len(scenario_4_sub)"
   ]
  },
  {
   "cell_type": "code",
   "execution_count": 101,
   "metadata": {},
   "outputs": [
    {
     "ename": "ValueError",
     "evalue": "Columns must be same length as key",
     "output_type": "error",
     "traceback": [
      "\u001b[1;31m---------------------------------------------------------------------------\u001b[0m",
      "\u001b[1;31mValueError\u001b[0m                                Traceback (most recent call last)",
      "\u001b[1;32m~\\AppData\\Local\\Temp/ipykernel_14536/1068422584.py\u001b[0m in \u001b[0;36m<module>\u001b[1;34m\u001b[0m\n\u001b[1;32m----> 1\u001b[1;33m scenario_4_sub['H_Distance'] = scenario_4_sub.apply(\n\u001b[0m\u001b[0;32m      2\u001b[0m \u001b[1;32mlambda\u001b[0m \u001b[0mrow\u001b[0m\u001b[1;33m:\u001b[0m \u001b[1;33m(\u001b[0m\u001b[1;33m(\u001b[0m\u001b[0mrow\u001b[0m\u001b[1;33m[\u001b[0m\u001b[1;34m'fare_amount'\u001b[0m\u001b[1;33m]\u001b[0m\u001b[1;33m-\u001b[0m\u001b[1;36m2.50\u001b[0m\u001b[1;33m)\u001b[0m\u001b[1;33m/\u001b[0m\u001b[1;36m1.56\u001b[0m\u001b[1;33m)\u001b[0m\u001b[1;33m,\u001b[0m \u001b[0maxis\u001b[0m\u001b[1;33m=\u001b[0m\u001b[1;36m1\u001b[0m\u001b[1;33m\u001b[0m\u001b[1;33m\u001b[0m\u001b[0m\n\u001b[0;32m      3\u001b[0m )\n",
      "\u001b[1;32m~\\anaconda3\\lib\\site-packages\\pandas\\core\\frame.py\u001b[0m in \u001b[0;36m__setitem__\u001b[1;34m(self, key, value)\u001b[0m\n\u001b[0;32m   3600\u001b[0m             \u001b[0mself\u001b[0m\u001b[1;33m.\u001b[0m\u001b[0m_setitem_array\u001b[0m\u001b[1;33m(\u001b[0m\u001b[0mkey\u001b[0m\u001b[1;33m,\u001b[0m \u001b[0mvalue\u001b[0m\u001b[1;33m)\u001b[0m\u001b[1;33m\u001b[0m\u001b[1;33m\u001b[0m\u001b[0m\n\u001b[0;32m   3601\u001b[0m         \u001b[1;32melif\u001b[0m \u001b[0misinstance\u001b[0m\u001b[1;33m(\u001b[0m\u001b[0mvalue\u001b[0m\u001b[1;33m,\u001b[0m \u001b[0mDataFrame\u001b[0m\u001b[1;33m)\u001b[0m\u001b[1;33m:\u001b[0m\u001b[1;33m\u001b[0m\u001b[1;33m\u001b[0m\u001b[0m\n\u001b[1;32m-> 3602\u001b[1;33m             \u001b[0mself\u001b[0m\u001b[1;33m.\u001b[0m\u001b[0m_set_item_frame_value\u001b[0m\u001b[1;33m(\u001b[0m\u001b[0mkey\u001b[0m\u001b[1;33m,\u001b[0m \u001b[0mvalue\u001b[0m\u001b[1;33m)\u001b[0m\u001b[1;33m\u001b[0m\u001b[1;33m\u001b[0m\u001b[0m\n\u001b[0m\u001b[0;32m   3603\u001b[0m         elif (\n\u001b[0;32m   3604\u001b[0m             \u001b[0mis_list_like\u001b[0m\u001b[1;33m(\u001b[0m\u001b[0mvalue\u001b[0m\u001b[1;33m)\u001b[0m\u001b[1;33m\u001b[0m\u001b[1;33m\u001b[0m\u001b[0m\n",
      "\u001b[1;32m~\\anaconda3\\lib\\site-packages\\pandas\\core\\frame.py\u001b[0m in \u001b[0;36m_set_item_frame_value\u001b[1;34m(self, key, value)\u001b[0m\n\u001b[0;32m   3727\u001b[0m             \u001b[0mlen_cols\u001b[0m \u001b[1;33m=\u001b[0m \u001b[1;36m1\u001b[0m \u001b[1;32mif\u001b[0m \u001b[0mis_scalar\u001b[0m\u001b[1;33m(\u001b[0m\u001b[0mcols\u001b[0m\u001b[1;33m)\u001b[0m \u001b[1;32melse\u001b[0m \u001b[0mlen\u001b[0m\u001b[1;33m(\u001b[0m\u001b[0mcols\u001b[0m\u001b[1;33m)\u001b[0m\u001b[1;33m\u001b[0m\u001b[1;33m\u001b[0m\u001b[0m\n\u001b[0;32m   3728\u001b[0m             \u001b[1;32mif\u001b[0m \u001b[0mlen_cols\u001b[0m \u001b[1;33m!=\u001b[0m \u001b[0mlen\u001b[0m\u001b[1;33m(\u001b[0m\u001b[0mvalue\u001b[0m\u001b[1;33m.\u001b[0m\u001b[0mcolumns\u001b[0m\u001b[1;33m)\u001b[0m\u001b[1;33m:\u001b[0m\u001b[1;33m\u001b[0m\u001b[1;33m\u001b[0m\u001b[0m\n\u001b[1;32m-> 3729\u001b[1;33m                 \u001b[1;32mraise\u001b[0m \u001b[0mValueError\u001b[0m\u001b[1;33m(\u001b[0m\u001b[1;34m\"Columns must be same length as key\"\u001b[0m\u001b[1;33m)\u001b[0m\u001b[1;33m\u001b[0m\u001b[1;33m\u001b[0m\u001b[0m\n\u001b[0m\u001b[0;32m   3730\u001b[0m \u001b[1;33m\u001b[0m\u001b[0m\n\u001b[0;32m   3731\u001b[0m             \u001b[1;31m# align right-hand-side columns if self.columns\u001b[0m\u001b[1;33m\u001b[0m\u001b[1;33m\u001b[0m\u001b[0m\n",
      "\u001b[1;31mValueError\u001b[0m: Columns must be same length as key"
     ]
    }
   ],
   "source": [
    "scenario_4_sub['H_Distance'] = scenario_4_sub.apply(\n",
    "lambda row: ((row['fare_amount']-2.50)/1.56), axis=1\n",
    ")\n"
   ]
  },
  {
   "cell_type": "code",
   "execution_count": 102,
   "metadata": {},
   "outputs": [],
   "source": [
    "train.update(scenario_4_sub)\n"
   ]
  },
  {
   "cell_type": "markdown",
   "metadata": {},
   "source": [
    "PART 2 --> MODELLING AND PREDICTION\n",
    "\n",
    "FINALLY! Data cleansing is done! Now to split the x and y variables and proceed to modelling. I shall use the random forest method for prediction"
   ]
  },
  {
   "cell_type": "code",
   "execution_count": 103,
   "metadata": {},
   "outputs": [
    {
     "data": {
      "text/plain": [
       "Index(['key', 'fare_amount', 'pickup_datetime', 'pickup_longitude',\n",
       "       'pickup_latitude', 'dropoff_longitude', 'dropoff_latitude',\n",
       "       'passenger_count', 'H_Distance', 'Year', 'Month', 'Date', 'Day of Week',\n",
       "       'Hour'],\n",
       "      dtype='object')"
      ]
     },
     "execution_count": 103,
     "metadata": {},
     "output_type": "execute_result"
    }
   ],
   "source": [
    "train.columns"
   ]
  },
  {
   "cell_type": "code",
   "execution_count": 104,
   "metadata": {},
   "outputs": [
    {
     "data": {
      "text/plain": [
       "Index(['key', 'pickup_datetime', 'pickup_longitude', 'pickup_latitude',\n",
       "       'dropoff_longitude', 'dropoff_latitude', 'passenger_count',\n",
       "       'H_Distance', 'Year', 'Month', 'Date', 'Day of Week', 'Hour'],\n",
       "      dtype='object')"
      ]
     },
     "execution_count": 104,
     "metadata": {},
     "output_type": "execute_result"
    }
   ],
   "source": [
    "test.columns\n"
   ]
  },
  {
   "cell_type": "code",
   "execution_count": 123,
   "metadata": {},
   "outputs": [
    {
     "data": {
      "text/plain": [
       "(5000000, 8)"
      ]
     },
     "execution_count": 123,
     "metadata": {},
     "output_type": "execute_result"
    }
   ],
   "source": [
    "train.shape  , 400000,8 Train    y=3x+5\n",
    "1000000, 8 test"
   ]
  },
  {
   "cell_type": "code",
   "execution_count": 105,
   "metadata": {},
   "outputs": [],
   "source": [
    "#not including the pickup_datetime columns as datetime columns cannot be directly used while modelling. Features need to extracted from the \n",
    "#timestamp fields which will later be used as features for modelling.\n",
    "train = train.drop(['key','pickup_datetime'], axis = 1)\n",
    "test = test.drop(['key','pickup_datetime'], axis = 1)"
   ]
  },
  {
   "cell_type": "code",
   "execution_count": 106,
   "metadata": {},
   "outputs": [],
   "source": [
    "x_train = train.iloc[:,train.columns!='fare_amount']\n",
    "y_train = train['fare_amount'].values\n",
    "x_test = test\n"
   ]
  },
  {
   "cell_type": "code",
   "execution_count": 107,
   "metadata": {},
   "outputs": [],
   "source": [
    "from sklearn.ensemble import RandomForestRegressor\n",
    "rf = RandomForestRegressor()\n",
    "rf.fit(x_train, y_train)\n",
    "rf_predict = rf.predict(x_test)\n",
    "\n"
   ]
  },
  {
   "cell_type": "code",
   "execution_count": 108,
   "metadata": {},
   "outputs": [
    {
     "name": "stdout",
     "output_type": "stream",
     "text": [
      "[12.616 12.616 13.064 ... 14.576 17.792 13.308]\n"
     ]
    }
   ],
   "source": [
    "print(rf_predict)"
   ]
  },
  {
   "cell_type": "code",
   "execution_count": 109,
   "metadata": {},
   "outputs": [
    {
     "data": {
      "text/html": [
       "<div>\n",
       "<style scoped>\n",
       "    .dataframe tbody tr th:only-of-type {\n",
       "        vertical-align: middle;\n",
       "    }\n",
       "\n",
       "    .dataframe tbody tr th {\n",
       "        vertical-align: top;\n",
       "    }\n",
       "\n",
       "    .dataframe thead th {\n",
       "        text-align: right;\n",
       "    }\n",
       "</style>\n",
       "<table border=\"1\" class=\"dataframe\">\n",
       "  <thead>\n",
       "    <tr style=\"text-align: right;\">\n",
       "      <th></th>\n",
       "      <th>key</th>\n",
       "      <th>fare_amount</th>\n",
       "    </tr>\n",
       "  </thead>\n",
       "  <tbody>\n",
       "    <tr>\n",
       "      <th>0</th>\n",
       "      <td>2015-01-27 13:08:24.0000002</td>\n",
       "      <td>12.616</td>\n",
       "    </tr>\n",
       "    <tr>\n",
       "      <th>1</th>\n",
       "      <td>2015-01-27 13:08:24.0000003</td>\n",
       "      <td>12.616</td>\n",
       "    </tr>\n",
       "    <tr>\n",
       "      <th>2</th>\n",
       "      <td>2011-10-08 11:53:44.0000002</td>\n",
       "      <td>13.064</td>\n",
       "    </tr>\n",
       "    <tr>\n",
       "      <th>3</th>\n",
       "      <td>2012-12-01 21:12:12.0000002</td>\n",
       "      <td>12.652</td>\n",
       "    </tr>\n",
       "    <tr>\n",
       "      <th>4</th>\n",
       "      <td>2012-12-01 21:12:12.0000003</td>\n",
       "      <td>12.828</td>\n",
       "    </tr>\n",
       "    <tr>\n",
       "      <th>5</th>\n",
       "      <td>2012-12-01 21:12:12.0000005</td>\n",
       "      <td>12.828</td>\n",
       "    </tr>\n",
       "    <tr>\n",
       "      <th>6</th>\n",
       "      <td>2011-10-06 12:10:20.0000001</td>\n",
       "      <td>12.932</td>\n",
       "    </tr>\n",
       "    <tr>\n",
       "      <th>7</th>\n",
       "      <td>2011-10-06 12:10:20.0000003</td>\n",
       "      <td>16.076</td>\n",
       "    </tr>\n",
       "    <tr>\n",
       "      <th>8</th>\n",
       "      <td>2011-10-06 12:10:20.0000002</td>\n",
       "      <td>11.864</td>\n",
       "    </tr>\n",
       "    <tr>\n",
       "      <th>9</th>\n",
       "      <td>2014-02-18 15:22:20.0000002</td>\n",
       "      <td>12.980</td>\n",
       "    </tr>\n",
       "    <tr>\n",
       "      <th>10</th>\n",
       "      <td>2014-02-18 15:22:20.0000003</td>\n",
       "      <td>12.064</td>\n",
       "    </tr>\n",
       "    <tr>\n",
       "      <th>11</th>\n",
       "      <td>2014-02-18 15:22:20.0000001</td>\n",
       "      <td>13.484</td>\n",
       "    </tr>\n",
       "    <tr>\n",
       "      <th>12</th>\n",
       "      <td>2010-03-29 20:20:32.0000002</td>\n",
       "      <td>9.960</td>\n",
       "    </tr>\n",
       "    <tr>\n",
       "      <th>13</th>\n",
       "      <td>2010-03-29 20:20:32.0000001</td>\n",
       "      <td>10.876</td>\n",
       "    </tr>\n",
       "    <tr>\n",
       "      <th>14</th>\n",
       "      <td>2011-10-06 03:59:12.0000002</td>\n",
       "      <td>13.700</td>\n",
       "    </tr>\n",
       "    <tr>\n",
       "      <th>15</th>\n",
       "      <td>2011-10-06 03:59:12.0000001</td>\n",
       "      <td>15.152</td>\n",
       "    </tr>\n",
       "    <tr>\n",
       "      <th>16</th>\n",
       "      <td>2012-07-15 16:45:04.0000006</td>\n",
       "      <td>12.316</td>\n",
       "    </tr>\n",
       "    <tr>\n",
       "      <th>17</th>\n",
       "      <td>2012-07-15 16:45:04.0000002</td>\n",
       "      <td>13.592</td>\n",
       "    </tr>\n",
       "    <tr>\n",
       "      <th>18</th>\n",
       "      <td>2012-07-15 16:45:04.0000003</td>\n",
       "      <td>12.676</td>\n",
       "    </tr>\n",
       "    <tr>\n",
       "      <th>19</th>\n",
       "      <td>2012-07-15 16:45:04.0000004</td>\n",
       "      <td>12.676</td>\n",
       "    </tr>\n",
       "  </tbody>\n",
       "</table>\n",
       "</div>"
      ],
      "text/plain": [
       "                            key  fare_amount\n",
       "0   2015-01-27 13:08:24.0000002       12.616\n",
       "1   2015-01-27 13:08:24.0000003       12.616\n",
       "2   2011-10-08 11:53:44.0000002       13.064\n",
       "3   2012-12-01 21:12:12.0000002       12.652\n",
       "4   2012-12-01 21:12:12.0000003       12.828\n",
       "5   2012-12-01 21:12:12.0000005       12.828\n",
       "6   2011-10-06 12:10:20.0000001       12.932\n",
       "7   2011-10-06 12:10:20.0000003       16.076\n",
       "8   2011-10-06 12:10:20.0000002       11.864\n",
       "9   2014-02-18 15:22:20.0000002       12.980\n",
       "10  2014-02-18 15:22:20.0000003       12.064\n",
       "11  2014-02-18 15:22:20.0000001       13.484\n",
       "12  2010-03-29 20:20:32.0000002        9.960\n",
       "13  2010-03-29 20:20:32.0000001       10.876\n",
       "14  2011-10-06 03:59:12.0000002       13.700\n",
       "15  2011-10-06 03:59:12.0000001       15.152\n",
       "16  2012-07-15 16:45:04.0000006       12.316\n",
       "17  2012-07-15 16:45:04.0000002       13.592\n",
       "18  2012-07-15 16:45:04.0000003       12.676\n",
       "19  2012-07-15 16:45:04.0000004       12.676"
      ]
     },
     "execution_count": 109,
     "metadata": {},
     "output_type": "execute_result"
    }
   ],
   "source": [
    "\n",
    "submission = pd.read_csv('sample_submission.csv')\n",
    "submission['fare_amount'] = rf_predict\n",
    "submission.to_csv('final_submission.csv', index=False)\n",
    "submission.head(20)"
   ]
  },
  {
   "cell_type": "code",
   "execution_count": null,
   "metadata": {},
   "outputs": [],
   "source": []
  },
  {
   "cell_type": "code",
   "execution_count": null,
   "metadata": {},
   "outputs": [],
   "source": []
  },
  {
   "cell_type": "code",
   "execution_count": null,
   "metadata": {},
   "outputs": [],
   "source": []
  },
  {
   "cell_type": "code",
   "execution_count": null,
   "metadata": {},
   "outputs": [],
   "source": []
  },
  {
   "cell_type": "code",
   "execution_count": null,
   "metadata": {},
   "outputs": [],
   "source": []
  },
  {
   "cell_type": "code",
   "execution_count": null,
   "metadata": {},
   "outputs": [],
   "source": []
  },
  {
   "cell_type": "code",
   "execution_count": null,
   "metadata": {},
   "outputs": [],
   "source": []
  },
  {
   "cell_type": "code",
   "execution_count": null,
   "metadata": {},
   "outputs": [],
   "source": []
  },
  {
   "cell_type": "code",
   "execution_count": null,
   "metadata": {},
   "outputs": [],
   "source": []
  },
  {
   "cell_type": "code",
   "execution_count": null,
   "metadata": {},
   "outputs": [],
   "source": []
  },
  {
   "cell_type": "code",
   "execution_count": null,
   "metadata": {},
   "outputs": [],
   "source": []
  },
  {
   "cell_type": "code",
   "execution_count": null,
   "metadata": {},
   "outputs": [],
   "source": []
  },
  {
   "cell_type": "code",
   "execution_count": null,
   "metadata": {},
   "outputs": [],
   "source": []
  },
  {
   "cell_type": "code",
   "execution_count": null,
   "metadata": {},
   "outputs": [],
   "source": []
  },
  {
   "cell_type": "code",
   "execution_count": null,
   "metadata": {},
   "outputs": [],
   "source": []
  },
  {
   "cell_type": "code",
   "execution_count": null,
   "metadata": {},
   "outputs": [],
   "source": []
  },
  {
   "cell_type": "code",
   "execution_count": null,
   "metadata": {},
   "outputs": [],
   "source": []
  }
 ],
 "metadata": {
  "kernelspec": {
   "display_name": "Python 3 (ipykernel)",
   "language": "python",
   "name": "python3"
  },
  "language_info": {
   "codemirror_mode": {
    "name": "ipython",
    "version": 3
   },
   "file_extension": ".py",
   "mimetype": "text/x-python",
   "name": "python",
   "nbconvert_exporter": "python",
   "pygments_lexer": "ipython3",
   "version": "3.9.7"
  }
 },
 "nbformat": 4,
 "nbformat_minor": 2
}
